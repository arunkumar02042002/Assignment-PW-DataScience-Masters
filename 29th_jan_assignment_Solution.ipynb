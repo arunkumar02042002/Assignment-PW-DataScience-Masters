{
 "cells": [
  {
   "cell_type": "markdown",
   "id": "f147d727-4efd-4cce-b281-eb78c27f41c9",
   "metadata": {},
   "source": [
    "# Assignment Start"
   ]
  },
  {
   "cell_type": "markdown",
   "id": "25fcad4d-cdd2-4389-bff7-1f263ee1d413",
   "metadata": {},
   "source": [
    "Q.1 Who developed python programming language?\n",
    "\n",
    "Ans. Python programming language was developed by Guido van Rossum in the late 1980s and was first released in 1991. Guido van Rossum is a Dutch programmer who worked at the Centrum Wiskunde & Informatica (CWI) research center in the Netherlands when he created Python. He named the language after his favorite TV show, \"Monty Python's Flying Circus\". Guido van Rossum continued to lead the development of Python for many years before retiring from his role as the \"Benevolent Dictator For Life\" (BDFL) of Python in 2018. Since then, the Python development community has continued to work on and improve the language."
   ]
  },
  {
   "cell_type": "markdown",
   "id": "cfe22542-ff88-4600-8a1c-d9fa4c6db2e5",
   "metadata": {},
   "source": [
    "Q.2 Which type of programming does python supports?\n",
    "\n",
    "Ans. Python is a high-level, interpreted programming language that supports multiple programming paradigms. It supports the following programming styles:\n",
    "- Procedural Programming: This is a programming paradigm where the program is written as a series of functions, which are executed one after the other in a sequential manner. Python supports procedural programming.\n",
    "- Object-Oriented Programming (OOP): This is a programming paradigm where the program is organized around objects and their interactions. Python supports OOP.\n",
    "- Functional Programming: This is a programming paradigm where programs are constructed by applying and composing functions. Python supports functional programming.\n",
    "- Imperative Programming: This is a programming paradigm that focuses on describing how a program operates by changing the program's state. Python supports imperative programming.\n",
    "- Event-Driven Programming: This is a programming paradigm where the flow of the program is determined by events that occur, such as user input or messages from other programs. Python supports event-driven programming.\n",
    "Python's flexibility in supporting multiple programming paradigms makes it a versatile language that can be used for a wide range of applications, from web development to scientific computing."
   ]
  },
  {
   "cell_type": "markdown",
   "id": "cbe99e6e-317b-42e9-92b9-f60ec9ecbef1",
   "metadata": {},
   "source": [
    "Q. 3 Is python sensitive when dealing with identifiers?\n",
    "\n",
    "Ans. Yes, Python is a case-sensitive language when it comes to identifiers, which include variable names, function names, class names, and other user-defined names.\n",
    "For example, the variable count is different from the variable Count in Python, and if you try to access one as the other, you will get a NameError because Python will treat them as two separate identifiers.\n",
    "Similarly, Python is also sensitive to whitespace (spaces, tabs, and newlines) when dealing with indentation. The correct indentation is crucial in Python to define blocks of code such as function definitions, loop statements, and conditional statements. If the indentation is incorrect, Python will raise an IndentationError.\n",
    "Therefore, it's important to be consistent and careful when naming identifiers and defining indentation in Python programs."
   ]
  },
  {
   "cell_type": "markdown",
   "id": "d639a088-097c-4bf3-a244-f566bb50ca28",
   "metadata": {},
   "source": [
    "Q.4 What is the correct extension of the python file?\n",
    "\n",
    "Ans. The correct extension of a Python file is .py.\n",
    "For example, if you have a Python program named \"my_program\", the file should be saved with the name \"my_program.py\". This allows the operating system to recognize the file as a Python script and associate it with the Python interpreter.\n",
    "When you run the Python program, you can execute it from the command line by typing python my_program.py, assuming that Python is installed and configured on your system.\n",
    "It's important to use the correct file extension when working with Python files to avoid confusion and ensure that your programs can be executed properly."
   ]
  },
  {
   "cell_type": "markdown",
   "id": "1bed21f1-204c-4b83-a41d-53b628a3a739",
   "metadata": {},
   "source": [
    "Q.5 Is python code compiled or interpreted?\n",
    "\n",
    "Ans. Python code is interpreted. When a Python program is executed, the interpreter reads the source code and converts it into an intermediate bytecode format, which is then executed by the Python Virtual Machine (PVM). The PVM is responsible for interpreting the bytecode and executing the program.\n",
    "\n",
    "The advantage of interpreted languages like Python is that the code can be executed on any platform that has a Python interpreter installed, without the need for platform-specific compilation. Interpreted languages are also more flexible and easier to develop with, as changes to the code can be quickly tested and executed without the need for time-consuming compilation."
   ]
  },
  {
   "cell_type": "markdown",
   "id": "a0d85dfc-3277-4ff8-9b98-7c8ecdd4950c",
   "metadata": {},
   "source": [
    "Q. 6 Name a few blocks of code used to define in python language.\n",
    "\n",
    "In Python, there are several types of blocks of code that are used to define different constructs in a program. Here are a few examples:"
   ]
  },
  {
   "cell_type": "code",
   "execution_count": 1,
   "id": "88a52e8d-f18e-4d95-9feb-c90c827bbd36",
   "metadata": {},
   "outputs": [],
   "source": [
    "\"\"\"1. Function block: Used to define a function in Python.\n",
    "The code within the function block is executed when the function is called.\"\"\"\n",
    "def my_function():\n",
    "    # code block for function\n",
    "    print(\"Hello, world!\")"
   ]
  },
  {
   "cell_type": "code",
   "execution_count": 2,
   "id": "09c4d287-4a24-4c97-976e-183d300d464a",
   "metadata": {},
   "outputs": [],
   "source": [
    "\"\"\"2. Class block: Used to define a class in Python.\n",
    "The code within the class block defines the attributes and methods of the class.\"\"\"\n",
    "class MyClass:\n",
    "    # code block for class\n",
    "    def __init__(self, name):\n",
    "        self.name = name\n",
    "\n",
    "    def greet(self):\n",
    "        print(\"Hello, \" + self.name + \"!\")"
   ]
  },
  {
   "cell_type": "code",
   "execution_count": 4,
   "id": "5e9d04be-022b-4b9d-97e0-23a07f69760b",
   "metadata": {},
   "outputs": [
    {
     "name": "stdout",
     "output_type": "stream",
     "text": [
      "x is less than or equal to 10\n"
     ]
    }
   ],
   "source": [
    "\"\"\"3. Conditional block: Used to execute code conditionally based on the result of a boolean expression.\n",
    "The code within the block is executed if the condition is true.\"\"\"\n",
    "x = 5\n",
    "if x > 10:\n",
    "    # code block for if statement\n",
    "    print(\"x is greater than 10\")\n",
    "else:\n",
    "    # code block for else statement\n",
    "    print(\"x is less than or equal to 10\")"
   ]
  },
  {
   "cell_type": "code",
   "execution_count": 5,
   "id": "a89efafa-1935-4ab8-9e8b-c985b690fd34",
   "metadata": {},
   "outputs": [
    {
     "name": "stdout",
     "output_type": "stream",
     "text": [
      "0\n",
      "1\n",
      "2\n",
      "3\n",
      "4\n",
      "5\n",
      "6\n",
      "7\n",
      "8\n",
      "9\n"
     ]
    }
   ],
   "source": [
    "\"\"\"4. Loop block: Used to iterate over a sequence of values and execute code repeatedly.\n",
    "The code within the block is executed for each iteration of the loop.\"\"\"\n",
    "for i in range(10):\n",
    "    # code block for for loop\n",
    "    print(i)"
   ]
  },
  {
   "cell_type": "markdown",
   "id": "6d08bece-a711-4095-811d-d1b78e5abbff",
   "metadata": {},
   "source": [
    "These are just a few examples of the types of code blocks used in Python. Other types of blocks include try/except blocks for error handling, with blocks for working with files and other resources, and more."
   ]
  },
  {
   "cell_type": "markdown",
   "id": "594c8386-ce6a-4bdd-9d4e-3933392a505d",
   "metadata": {},
   "source": [
    "Q. 7 State a character used to give single-line comments in python.\n",
    "\n",
    "Ans. In Python, the # symbol is used to indicate a single-line comment. Any text that appears after the # symbol on a line is ignored by the Python interpreter."
   ]
  },
  {
   "cell_type": "code",
   "execution_count": 7,
   "id": "9adeb4b2-6491-484e-aade-fe6c8c08e8b1",
   "metadata": {},
   "outputs": [
    {
     "name": "stdout",
     "output_type": "stream",
     "text": [
      "Hello, world!\n"
     ]
    }
   ],
   "source": [
    "# For Example - This is a single-line comment in Python\n",
    "print(\"Hello, world!\")  # This line of code prints a message to the console"
   ]
  },
  {
   "cell_type": "markdown",
   "id": "76b73177-3f7b-4398-8f2a-7993b7044f6a",
   "metadata": {},
   "source": [
    "In this example, the first line is a single-line comment that is ignored by the interpreter. The second line prints a message to the console, but the text after the # symbol is also ignored as a comment."
   ]
  },
  {
   "cell_type": "markdown",
   "id": "9df8cea0-c6f5-4f34-b851-2a4ca9897727",
   "metadata": {},
   "source": [
    "Q. 8 Mention functions which can help us to find the version of python that we are currently working on.\n",
    "\n",
    "Ans. There are several ways to find the version of Python that you are currently working on:\n",
    "\n",
    "1. sys module: The sys module provides information about the Python interpreter, including the version number. You can use the sys.version attribute to get the version number as a string."
   ]
  },
  {
   "cell_type": "code",
   "execution_count": 8,
   "id": "524e3598-eedf-468d-af1a-6246e71bb0ed",
   "metadata": {},
   "outputs": [
    {
     "name": "stdout",
     "output_type": "stream",
     "text": [
      "3.10.8 | packaged by conda-forge | (main, Nov 22 2022, 08:26:04) [GCC 10.4.0]\n"
     ]
    }
   ],
   "source": [
    "import sys\n",
    "\n",
    "print(sys.version)  # prints the version of Python, e.g. \"3.9.1\""
   ]
  },
  {
   "cell_type": "markdown",
   "id": "099167d8-6357-4b86-b182-499867a1e293",
   "metadata": {},
   "source": [
    "2. platform module: The platform module provides information about the platform on which Python is running, including the version of Python. You can use the platform.python_version() function to get the version number as a string."
   ]
  },
  {
   "cell_type": "code",
   "execution_count": 9,
   "id": "476feb95-b688-464a-bd4e-e0bc75245dd8",
   "metadata": {},
   "outputs": [
    {
     "name": "stdout",
     "output_type": "stream",
     "text": [
      "3.10.8\n"
     ]
    }
   ],
   "source": [
    "import platform\n",
    "\n",
    "print(platform.python_version())  # prints the version of Python, e.g. \"3.9.1\""
   ]
  },
  {
   "cell_type": "markdown",
   "id": "b1c1d162-3950-4355-b6b6-0fc27d91897f",
   "metadata": {},
   "source": [
    "3. Command line: If you are using the command line to run Python, you can use the -V or --version flag to print the version number."
   ]
  },
  {
   "cell_type": "markdown",
   "id": "6e52b4cf-d22d-4128-b118-a7e257f572da",
   "metadata": {},
   "source": [
    "$ python -V\n",
    "Python 3.9.1\n",
    "\n",
    "$ python --version\n",
    "Python 3.9.1\n",
    "\n",
    "These are just a few examples of ways to find the version of Python that you are working on."
   ]
  },
  {
   "cell_type": "markdown",
   "id": "b66d9144-c3c2-483f-8d94-4294f76ca802",
   "metadata": {},
   "source": [
    "Q. 9 Python supports the creation of anonymous functions at runtime, using a construct called ______.\n",
    "\n",
    "Ans. Python supports the creation of anonymous functions at runtime, using a construct called \"lambda\".\n",
    "\n",
    "For example:"
   ]
  },
  {
   "cell_type": "code",
   "execution_count": 11,
   "id": "981c9023-b0c2-4555-87d0-59ac06110ae3",
   "metadata": {},
   "outputs": [
    {
     "data": {
      "text/plain": [
       "25"
      ]
     },
     "execution_count": 11,
     "metadata": {},
     "output_type": "execute_result"
    }
   ],
   "source": [
    "square = lambda x: x**2\n",
    "square(5)"
   ]
  },
  {
   "cell_type": "markdown",
   "id": "5062312f-8b52-4f89-8bf3-2477404b900c",
   "metadata": {},
   "source": [
    "Q. 10 what does pip stand for in python?\n",
    "\n",
    "Ans. In Python, pip stands for \"Pip Installs Packages\" or \"Python Package Installer\". It is a package management system used to install and manage software packages written in Python.\n",
    "\n",
    "pip is a command-line tool that makes it easy to find, install, and manage Python packages and their dependencies. It allows users to easily install and manage a variety of Python packages from the Python Package Index (PyPI) or other sources.\n",
    "\n",
    "For example, to install the numpy package using pip, you can run the following command: pip install numpy\n",
    "\n",
    "This will download and install the numpy package and any required dependencies."
   ]
  },
  {
   "cell_type": "markdown",
   "id": "00e84418-a63d-4f36-ba40-26c74c92ffb8",
   "metadata": {},
   "source": [
    "Q. 11 Mentions a few built-in functions in python.\n",
    "\n",
    "Ans. Python has a number of built-in functions that can be used without importing any modules. Some commonly used built-in functions in Python include:\n",
    "\n",
    "- print(): Used to print output to the console.\n",
    "- type(): Used to get the type of a variable or object.\n",
    "- len(): Used to get the length of a string, list, or other iterable.\n",
    "- range(): Used to create a sequence of numbers.\n",
    "- sum(): Used to calculate the sum of a list of numbers.\n",
    "- min(): Used to find the minimum value in a list of numbers.\n",
    "- max(): Used to find the maximum value in a list of numbers.\n",
    "- abs(): Used to get the absolute value of a number.\n",
    "- round(): Used to round a number to a given number of decimal places.\n",
    "- input(): Used to get user input from the console.\n",
    "\n",
    "These are just a few examples of the many built-in functions in Python. The full list can be found in the Python documentation."
   ]
  },
  {
   "cell_type": "markdown",
   "id": "0be40fba-a25e-47b1-b7b3-a5a3477d0ce7",
   "metadata": {},
   "source": [
    "Q. 12 What is the maximum possible length of an identifier in python?\n",
    "\n",
    "Ans. In Python, the maximum possible length of an identifier is not explicitly defined. However, the Python style guide recommends that identifiers (variable names, function names, etc.) should be no longer than 79 characters in length to maintain readability.\n",
    "\n",
    "Python also allows the use of special characters like underscore (_) and hyphen (-) in identifiers. However, it is generally recommended to use only letters, digits, and underscores in identifiers to avoid potential naming conflicts and to make the code more readable.\n",
    "\n",
    "In practice, most identifiers in Python are relatively short and descriptive, usually less than 20 characters in length."
   ]
  },
  {
   "cell_type": "markdown",
   "id": "bd559c34-030b-4a9b-aa85-3c1dcbe9108d",
   "metadata": {},
   "source": [
    "Q. 13 What are the benefits of using Python?\n",
    "There are many benefits of using Python as a programming language, some of the major ones are:\n",
    "\n",
    "- Easy to learn and use: Python is designed to be simple and easy to understand, making it an ideal language for beginners. The syntax is clear and concise, and there are many resources available online to help new users get started.\n",
    "\n",
    "- Large and active community: Python has a large and active community of users and developers, which means that there are many resources available online, including libraries, frameworks, and forums for getting help and support.\n",
    "\n",
    "- Versatility: Python can be used for a wide range of tasks, from web development and data analysis to scientific computing and machine learning. It is also cross-platform, which means that code written on one operating system can be easily ported to another.\n",
    "\n",
    "- Extensive standard library: Python comes with a large standard library that includes modules for tasks such as string processing, file I/O, networking, and more, making it easier to accomplish common tasks without having to write additional code.\n",
    "\n",
    "- Third-party libraries and frameworks: Python has a vast ecosystem of third-party libraries and frameworks that can be used to extend its functionality and simplify development. Some popular libraries and frameworks include NumPy, Pandas, Django, Flask, TensorFlow, and PyTorch.\n",
    "\n",
    "- Interpreted language: Python is an interpreted language, which means that code can be run directly without needing to be compiled first. This can make development faster and easier, as code changes can be tested and run immediately.\n",
    "\n",
    "- Open-source: Python is an open-source language, which means that the source code is available for free and can be modified and distributed by anyone. This has helped to foster a large and active community around the language, as well as promoting collaboration and innovation."
   ]
  },
  {
   "cell_type": "markdown",
   "id": "ccc6d1c4-3944-42f1-b955-07e9443a6b9c",
   "metadata": {},
   "source": [
    "Q. 14 How is memory manages in Python?\n",
    "\n",
    "Ans. Memory management in Python is handled automatically by the language through a mechanism known as \"garbage collection.\" Python uses a reference counting mechanism to keep track of the number of references to an object, and when the number of references to an object becomes zero, the object is deleted from memory.\n",
    "\n",
    "In addition to reference counting, Python also uses a cyclic garbage collector to detect and remove circular references, where two or more objects refer to each other and are no longer needed. The garbage collector periodically scans the memory to detect and remove any such circular references, ensuring that memory is used efficiently and effectively.\n",
    "\n",
    "Python also provides a mechanism for managing memory using the built-in module gc (garbage collector). This module provides a set of functions and classes that allow developers to control and customize the garbage collector. For example, the gc.disable() function can be used to disable the garbage collector, while the gc.collect() function can be used to force an immediate garbage collection."
   ]
  },
  {
   "cell_type": "markdown",
   "id": "e2edc9bf-693f-4a7b-910e-2e1c9bbadaee",
   "metadata": {},
   "source": [
    "Q. 15 How to install Python on Windows and set path variables?\n",
    "\n",
    "Ans. To install Python on Windows and set path variables, you can follow these steps:\n",
    "\n",
    "1. Go to the official Python website at www.python.org/downloads/.\n",
    "2. Download the latest version of Python for Windows.\n",
    "3. Run the installer and follow the prompts to complete the installation. Make sure to select the option to \"Add Python to PATH\" during the installation process.\n",
    "4. Once the installation is complete, open the Windows Command Prompt or PowerShell.\n",
    "5. Type python in the command prompt and hit enter. If Python is installed correctly, you should see the Python version number and command prompt.\n",
    "6. Next, you need to set the path variables. To do this, right-click on the \"This PC\" icon on your desktop and select \"Properties\".\n",
    "7. Click on \"Advanced system settings\".\n",
    "8. In the \"System Properties\" window, click on the \"Environment Variables\" button.\n",
    "9. In the \"Environment Variables\" window, locate the \"Path\" variable under \"System variables\" and click on \"Edit\".\n",
    "10. the path to the Python installation directory at the end of the \"Variable value\" field. For example, if Python is installed in the \"C:\\Python39\" directory, add \";C:\\Python39\" to the end of the \"Variable value\" field (without quotes).\n",
    "11. Click \"OK\" to close all the windows and save the changes.\n",
    "\n",
    "That's it! Python is now installed on your Windows system and the path variables have been set. You can now run Python from the command prompt or PowerShell by typing python."
   ]
  },
  {
   "cell_type": "markdown",
   "id": "c5cae7f5-ff90-49b0-891e-3fed6701f673",
   "metadata": {},
   "source": [
    "Q. 16 Is indentation required in python?\n",
    "\n",
    "Ans. Yes, indentation is required in Python. Indentation refers to the spaces or tabs at the beginning of a line of code that determine the grouping of statements within a block of code, such as a function or loop. Unlike many other programming languages that use curly braces to delimit blocks of code, Python uses indentation.\n",
    "\n",
    "The Python interpreter uses indentation to determine the grouping of statements within a block of code. Incorrect indentation can result in a syntax error or a logical error in your program."
   ]
  },
  {
   "cell_type": "code",
   "execution_count": 12,
   "id": "5c32b340-96d4-4b15-b99a-b77485af3e30",
   "metadata": {},
   "outputs": [],
   "source": [
    "#For example, consider the following Python code that defines a simple function:\n",
    "def greet(name):\n",
    "    if name == \"Arun\":\n",
    "        print(\"Hello, Arun!\")\n",
    "    else:\n",
    "        print(\"Hello, stranger!\")"
   ]
  },
  {
   "cell_type": "markdown",
   "id": "e74bfb6b-6302-4992-8afe-4bf085aa4585",
   "metadata": {},
   "source": [
    "In this code, the if statement and the else statement are indented under the def statement, indicating that they are part of the greet() function. If the if statement or the else statement were not indented, they would be considered outside of the function and would cause a syntax error.\n",
    "\n",
    "In short, proper indentation is a crucial aspect of writing correct and readable Python code."
   ]
  },
  {
   "cell_type": "markdown",
   "id": "8778e047-db28-428f-b892-6f1ed716a358",
   "metadata": {},
   "source": [
    "# End of Assignment"
   ]
  },
  {
   "cell_type": "code",
   "execution_count": null,
   "id": "c8166dc9-387e-4030-a5fe-695b00250842",
   "metadata": {},
   "outputs": [],
   "source": []
  }
 ],
 "metadata": {
  "kernelspec": {
   "display_name": "Python 3 (ipykernel)",
   "language": "python",
   "name": "python3"
  },
  "language_info": {
   "codemirror_mode": {
    "name": "ipython",
    "version": 3
   },
   "file_extension": ".py",
   "mimetype": "text/x-python",
   "name": "python",
   "nbconvert_exporter": "python",
   "pygments_lexer": "ipython3",
   "version": "3.10.8"
  }
 },
 "nbformat": 4,
 "nbformat_minor": 5
}
