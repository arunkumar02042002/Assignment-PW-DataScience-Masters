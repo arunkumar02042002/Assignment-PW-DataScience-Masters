{
 "cells": [
  {
   "cell_type": "markdown",
   "id": "22ed68bc-a32f-4831-8976-ed84058fc400",
   "metadata": {},
   "source": [
    "#Assignment Starts"
   ]
  },
  {
   "cell_type": "markdown",
   "id": "6ace5466-1d2a-458a-bd4d-f7180f36b74b",
   "metadata": {},
   "source": [
    "Q. 1 Which keyword is used to create a function? Create a function to return a list of odd numbers in the\n",
    "range of 1 to 25.\n",
    "\n",
    "Ans. \"def\" key word is used to create a function."
   ]
  },
  {
   "cell_type": "code",
   "execution_count": 1,
   "id": "4d229acf-964f-40e8-b8d8-840611cbaa33",
   "metadata": {},
   "outputs": [
    {
     "name": "stdout",
     "output_type": "stream",
     "text": [
      "[1, 3, 5, 7, 9, 11, 13, 15, 17, 19, 21, 23, 25]\n"
     ]
    }
   ],
   "source": [
    "# Create a function to return a list of odd numbers in the range of 1 to 25.\n",
    "def _oddNum():\n",
    "    return [i for i in range (1, 26) if i%2 == 1]\n",
    "\n",
    "x = _oddNum()\n",
    "print(x)"
   ]
  },
  {
   "cell_type": "markdown",
   "id": "fc82325f-1dd4-4a82-ab0d-6c32dc78881c",
   "metadata": {},
   "source": [
    "In this solution, the _oddNum function takes no arguments and uses list comprehension.\n",
    "For each number between 1 to 26, the function checks if it's odd by using the modulo operator (%) to see if the remainder when \n",
    "dividing by 2 is equal to 1. If the number is odd, it's added to the list.\n",
    "Finally, the function returns the list of odd numbers."
   ]
  },
  {
   "cell_type": "raw",
   "id": "c057c914-4dca-483c-8293-84f41f29a047",
   "metadata": {},
   "source": []
  },
  {
   "cell_type": "markdown",
   "id": "f892378a-5097-43fb-94a6-c18d611a574e",
   "metadata": {},
   "source": [
    "Q.2 Why *args and **kwargs is used in some functions? Create a function each for *args and **kwargs\n",
    "to demonstrate their use.\n",
    "\n",
    "Ans. *args and **kwargs are special syntax in Python that allow a function to accept an arbitrary number of arguments and/or keyword arguments respectively."
   ]
  },
  {
   "cell_type": "markdown",
   "id": "86ff6a5c-6377-4fe5-9164-356853713396",
   "metadata": {},
   "source": [
    "*args is used to pass a variable number of arguments to a function. The * tells Python to pass any number of positional arguments to the function as a tuple. This is useful when we do not know how many arguments will be passed to a function in advance."
   ]
  },
  {
   "cell_type": "code",
   "execution_count": 8,
   "id": "4a8a9394-e649-4aa6-aa16-3057df3da9b0",
   "metadata": {},
   "outputs": [
    {
     "name": "stdout",
     "output_type": "stream",
     "text": [
      "10\n",
      "75\n"
     ]
    }
   ],
   "source": [
    "#Example of a function that uses *args:\n",
    "def addNum(*args):\n",
    "    sum = 0\n",
    "    for num in args:\n",
    "        sum += num\n",
    "    return sum\n",
    "\n",
    "print(addNum(1, 2, 3, 4))\n",
    "print(addNum(5, 10, 15, 20, 25))"
   ]
  },
  {
   "cell_type": "markdown",
   "id": "bbcf339b-0c56-4c69-a1cf-de4a3cddcbfe",
   "metadata": {},
   "source": [
    "In this example, the addNum function takes any number of arguments, which are then passed to the function as a tuple named args.\n",
    "The function then iterates over the elements in the args tuple, adding each element to a variable named sum.\n",
    "Finally, the function returns the sum of all the arguments."
   ]
  },
  {
   "cell_type": "markdown",
   "id": "391ec092-7d19-4673-8bb0-f2d545c68cef",
   "metadata": {},
   "source": [
    "**kwargs is used to pass a variable number of keyword arguments to a function. The ** tells Python to pass any number of keyword arguments to the function as a dictionary. This is useful when we want to pass a varying number of keyword arguments to a function."
   ]
  },
  {
   "cell_type": "code",
   "execution_count": 9,
   "id": "f7efc326-c574-44b7-a184-17968b24602e",
   "metadata": {},
   "outputs": [
    {
     "name": "stdout",
     "output_type": "stream",
     "text": [
      "name: Arun\n",
      "age: 21\n",
      "gender: male\n"
     ]
    }
   ],
   "source": [
    "#Example of a function that uses **kwargs\n",
    "def printStudentInfo(**kwargs):\n",
    "    for key, value in kwargs.items():\n",
    "        print(f\"{key}: {value}\")\n",
    "\n",
    "printStudentInfo(name='Arun', age=21, gender='male')"
   ]
  },
  {
   "cell_type": "markdown",
   "id": "3a58b579-00f1-4406-b4ff-62cc580a56d1",
   "metadata": {},
   "source": [
    "In this example, the printStudentInfo function takes any number of keyword arguments, which are then passed to the function as a dictionary named kwargs.\n",
    "The function then iterates over the key-value pairs in the kwargs dictionary, printing each key-value pair."
   ]
  },
  {
   "cell_type": "markdown",
   "id": "c9baca95-9e06-465b-9ad8-9d93a2687509",
   "metadata": {},
   "source": [
    "Q.3 What is an iterator in python? Name the method used to initialise the iterator object and the method used for iteration.\n",
    "Use these methods to print the first five elements of the given list [2, 4, 6, 8, 10, 12, 14, 16, 18, 20].\n",
    "\n",
    "Ans. In Python, an iterator is an object that can be iterated (looped) upon, meaning we can traverse through all the values in a sequence, like a list or a tuple. An iterator is used to provide a sequence of values and give access to each element of that sequence, one at a time.\n",
    "\n",
    "To create an iterator object in Python, we use the iter() function, which takes an iterable object (such as a list) as an argument, and returns an iterator object.\n",
    "\n",
    "Once we have an iterator object, we can use the next() method to iterate through the sequence. The next() method returns the next value in the sequence, and raises the StopIteration exception when there are no more values left to return."
   ]
  },
  {
   "cell_type": "code",
   "execution_count": 10,
   "id": "38203302-e37b-4e00-8472-74b6173193da",
   "metadata": {},
   "outputs": [
    {
     "name": "stdout",
     "output_type": "stream",
     "text": [
      "2\n",
      "4\n",
      "6\n",
      "8\n",
      "10\n"
     ]
    }
   ],
   "source": [
    "#Example of using an iterator to print the first five elements of the list [2, 4, 6, 8, 10, 12, 14, 16, 18, 20]\n",
    "givenList = [2, 4, 6, 8, 10, 12, 14, 16, 18, 20]\n",
    "\n",
    "# create an iterator object\n",
    "iter_obj = iter(givenList)\n",
    "\n",
    "# iterate through the sequence using the next() method\n",
    "for i in range(5):\n",
    "    element = next(iter_obj)\n",
    "    print(element)"
   ]
  },
  {
   "cell_type": "markdown",
   "id": "abe2e247-9100-46f6-aa0a-527cb6735a49",
   "metadata": {},
   "source": [
    "In this example, we first create an iterator object from the list using the iter() function. Then, we use a for loop to iterate through the first five elements of the sequence using the next() method. Each time the loop runs, the next() method returns the next element in the sequence, which we then print out.\n",
    "After printing the first five elements of the list, we have exhausted the iterator, so any further calls to next() will raise the StopIteration exception."
   ]
  },
  {
   "cell_type": "raw",
   "id": "3a77705a-6442-4d74-8dcd-de8b5df89517",
   "metadata": {},
   "source": []
  },
  {
   "cell_type": "markdown",
   "id": "b84de666-a349-4a0d-8205-a6e292ace211",
   "metadata": {},
   "source": [
    "Q.4 What is a generator function in python? Why yield keyword is used? Give an example of a generator\n",
    "function.\n",
    "\n",
    "Ans. In Python, a generator function is a special kind of function that returns an iterator. Unlike a regular function, which returns a single value and then exits, a generator function can yield multiple values, one at a time, and then resume from where it left off each time it is called again.\n",
    "\n",
    "The yield keyword is used in a generator function to produce a series of values that can be iterated over. When a generator function is called, it returns a generator object, which can be iterated over using a for loop or the next() function."
   ]
  },
  {
   "cell_type": "code",
   "execution_count": 11,
   "id": "0559e80f-4b89-4640-b03f-f6ae9df42e2a",
   "metadata": {},
   "outputs": [
    {
     "name": "stdout",
     "output_type": "stream",
     "text": [
      "0\n",
      "2\n",
      "4\n",
      "6\n",
      "8\n",
      "10\n",
      "12\n",
      "14\n",
      "16\n",
      "18\n"
     ]
    }
   ],
   "source": [
    "#Example of a generator function that generates a sequence of even numbers\n",
    "def generateEvenNmbers(n):\n",
    "    for i in range(n):\n",
    "        if i % 2 == 0:\n",
    "            yield i\n",
    "\n",
    "#Generate the first 10 even numbers\n",
    "even_numbers = generateEvenNmbers(20)\n",
    "for number in even_numbers:\n",
    "    print(number)"
   ]
  },
  {
   "cell_type": "markdown",
   "id": "53195400-7d49-4e11-9ca8-e717963ce4d5",
   "metadata": {},
   "source": [
    "In this example, the generateEvenNmbers() function takes an integer n as input, and then uses a for loop to generate a sequence of numbers from 0 to n. For each number in the sequence, the function checks if it is even by using the modulus operator (%) and the number 2. If the number is even, the function yields it using the yield keyword.\n",
    "Each time the yield keyword is encountered, the function \"pauses\" and returns the current value to the caller. When the function is called again, it resumes execution from where it left off, continuing to generate and yield values until there are no more values left to yield. This makes generator functions a powerful tool for working with large data sets or infinite sequences, since they allow us to generate and process data one piece at a time, rather than all at once."
   ]
  },
  {
   "cell_type": "raw",
   "id": "f65f0f9f-e21d-4209-abd2-50dffb0fe9db",
   "metadata": {},
   "source": []
  },
  {
   "cell_type": "markdown",
   "id": "caf3a3f3-f9ee-40b8-8c1a-33e9822eeb63",
   "metadata": {},
   "source": [
    "Q.5 Create a generator function for prime numbers less than 1000. Use the next() method to print the first 20 prime numbers."
   ]
  },
  {
   "cell_type": "code",
   "execution_count": 12,
   "id": "4f6e2958-92de-4051-8b3e-ce686a8f59ba",
   "metadata": {},
   "outputs": [
    {
     "name": "stdout",
     "output_type": "stream",
     "text": [
      "2\n",
      "3\n",
      "5\n",
      "7\n",
      "11\n",
      "13\n",
      "17\n",
      "19\n",
      "23\n",
      "29\n",
      "31\n",
      "37\n",
      "41\n",
      "43\n",
      "47\n",
      "53\n",
      "59\n",
      "61\n",
      "67\n",
      "71\n"
     ]
    }
   ],
   "source": [
    "#Example of a generator function that generates prime numbers less than 1000\n",
    "def generatePrimes():\n",
    "    primes = []\n",
    "    for num in range(2, 1000):\n",
    "        is_prime = True\n",
    "        for i in range(2, int(num ** 0.5) + 1):\n",
    "            if num % i == 0:\n",
    "                is_prime = False\n",
    "                break\n",
    "        if is_prime:\n",
    "            primes.append(num)\n",
    "            yield num\n",
    "\n",
    "#Create a generator object for prime numbers\n",
    "primes = generatePrimes()\n",
    "\n",
    "#Use next() method to print the first 20 prime numbers\n",
    "for i in range(20):\n",
    "    print(next(primes))"
   ]
  },
  {
   "cell_type": "markdown",
   "id": "c7ab9811-80da-4c8a-9cca-f4bc6588f0e2",
   "metadata": {},
   "source": [
    "In this example, the generatePrimes() function generates a sequence of prime numbers less than 1000. For each number in the range 2 to 1000, the function checks if it is prime by dividing it by all numbers between 2 and the square root of the number. If the number is prime, the function adds it to a list and yields it using the yield keyword.\n",
    "\n",
    "To use this generator function, we can create a generator object by calling the function, and then use the next() method to print the first 20 prime numbers."
   ]
  },
  {
   "cell_type": "raw",
   "id": "3be2156c-934f-45c2-99ab-f2786726e39b",
   "metadata": {},
   "source": []
  },
  {
   "cell_type": "markdown",
   "id": "5240a274-44e1-42ef-b9a0-edc3451bde0a",
   "metadata": {},
   "source": [
    "Q. 6 Write a python program to print the first 10 Fibonacci numbers using a while loop."
   ]
  },
  {
   "cell_type": "code",
   "execution_count": 13,
   "id": "f007d027-5fb4-440b-90eb-77e8b3ae94ea",
   "metadata": {},
   "outputs": [
    {
     "name": "stdout",
     "output_type": "stream",
     "text": [
      "0\n",
      "1\n",
      "1\n",
      "2\n",
      "3\n",
      "5\n",
      "8\n",
      "13\n",
      "21\n",
      "34\n"
     ]
    }
   ],
   "source": [
    "#Solution\n",
    "#Initialize the first two numbers of the sequence\n",
    "a, b = 0, 1\n",
    "\n",
    "#Print the first 10 Fibonacci numbers using a while loop\n",
    "i = 0\n",
    "while i < 10:\n",
    "    print(a)\n",
    "    a, b = b, a + b\n",
    "    i += 1"
   ]
  },
  {
   "cell_type": "markdown",
   "id": "a96d8340-167d-4ad5-aac3-d0c96998760d",
   "metadata": {},
   "source": [
    "We initialize the first two numbers of the Fibonacci sequence to 0 and 1, respectively. We then use a while loop to print the first 10 numbers of the sequence.\n",
    "Inside the loop, we first print the current value of a, which represents the current number in the sequence. We then update the values of a and b to be the next two numbers in the sequence by setting a equal to b and b equal to the sum of a and b. Finally, we increment the loop counter i by 1 to ensure that we only print the first 10 numbers."
   ]
  },
  {
   "cell_type": "raw",
   "id": "f287a271-f65b-451f-b3fe-624ce93dd5d7",
   "metadata": {},
   "source": []
  },
  {
   "cell_type": "markdown",
   "id": "afd87582-b32e-4f02-b5ab-b3c87f6393ed",
   "metadata": {},
   "source": [
    "Q. 7 Write a List Comprehension to iterate through the given string: ‘pwskills’. Expected output: ['p', 'w', 's', 'k', 'i', 'l', 'l', 's']"
   ]
  },
  {
   "cell_type": "code",
   "execution_count": 16,
   "id": "300723e2-a9ff-44c9-b5cd-f0fa291b33f9",
   "metadata": {},
   "outputs": [
    {
     "name": "stdout",
     "output_type": "stream",
     "text": [
      "['p', 'w', 's', 'k', 'i', 'l', 'l', 's']\n"
     ]
    }
   ],
   "source": [
    "#Example of a list comprehension to iterate through the string \"pwskills\" and return a list of certain characters\n",
    "string = 'pwskills'\n",
    "result = [char for char in string if char in 'pwskills']\n",
    "print(result)"
   ]
  },
  {
   "cell_type": "markdown",
   "id": "7de12acb-11bc-4565-a5bb-fc7f88185aed",
   "metadata": {},
   "source": [
    "We use a list comprehension to iterate through the characters in the string string. The if statement filters the characters to only include those that are in the given list of characters 'pwskills'. Finally, the resulting list of characters is stored in the result variable and printed."
   ]
  },
  {
   "cell_type": "markdown",
   "id": "e3b20b48-a8d2-4c4e-a54b-823db5252f3d",
   "metadata": {},
   "source": [
    "Q.8 Write a python program to check whether a given number is Palindrome or not using a while loop."
   ]
  },
  {
   "cell_type": "code",
   "execution_count": 20,
   "id": "6eb9ade0-891e-4791-9836-4ea711fbcca3",
   "metadata": {},
   "outputs": [
    {
     "name": "stdin",
     "output_type": "stream",
     "text": [
      "Enter a number:  1213121\n"
     ]
    },
    {
     "name": "stdout",
     "output_type": "stream",
     "text": [
      "The number is a palindrome\n"
     ]
    }
   ],
   "source": [
    "#Solution to check whether a given number is a palindrome or not using a while loop.\n",
    "#Take user input for the number to check\n",
    "num = int(input(\"Enter a number: \"))\n",
    "\n",
    "#Make a copy of the number for later comparison\n",
    "original_num = num\n",
    "\n",
    "#Initialize a variable to store the reversed number\n",
    "reversed_num = 0\n",
    "\n",
    "#Use a while loop to reverse the number\n",
    "while num > 0:\n",
    "    digit = num % 10\n",
    "    reversed_num = (reversed_num * 10) + digit\n",
    "    num = num // 10\n",
    "\n",
    "#Compare the original number with the reversed number\n",
    "if original_num == reversed_num:\n",
    "    print(\"The number is a palindrome\")\n",
    "else:\n",
    "    print(\"The number is not a palindrome\")"
   ]
  },
  {
   "cell_type": "markdown",
   "id": "77cda9af-fecb-46a4-8052-a66661bd3df4",
   "metadata": {},
   "source": [
    "We first take user input for the number to check using the input() function and convert it to an integer using the int() function. We then make a copy of the number in original_num for later comparison.\n",
    "Next, we initialize a variable reversed_num to 0 to store the reversed number, and use a while loop to reverse the digits of the number. Inside the loop, we use the modulus operator % to get the rightmost digit of the number, add it to reversed_num multiplied by 10, and then remove the rightmost digit from the number using integer division //.\n",
    "After the loop completes, we compare the original number original_num with the reversed number reversed_num using an if statement. If they are equal, we print a message indicating that the number is a palindrome. If they are not equal, we print a message indicating that the number is not a palindrome."
   ]
  },
  {
   "cell_type": "raw",
   "id": "c2cdea13-2d0b-4b60-8a24-b7afadbf3162",
   "metadata": {},
   "source": []
  },
  {
   "cell_type": "markdown",
   "id": "f5e43c60-3373-4dd4-bdd0-01693a260dd9",
   "metadata": {},
   "source": [
    "Q. 9 Write a code to print odd numbers from 1 to 100 using list comprehension.\n",
    "Note: Use a list comprehension to create a list from 1 to 100 and use another List comprehension to filter out odd numbers."
   ]
  },
  {
   "cell_type": "code",
   "execution_count": 21,
   "id": "cb10218a-47e0-4e14-80f9-8812fb186ac4",
   "metadata": {},
   "outputs": [
    {
     "name": "stdout",
     "output_type": "stream",
     "text": [
      "[1, 3, 5, 7, 9, 11, 13, 15, 17, 19, 21, 23, 25, 27, 29, 31, 33, 35, 37, 39, 41, 43, 45, 47, 49, 51, 53, 55, 57, 59, 61, 63, 65, 67, 69, 71, 73, 75, 77, 79, 81, 83, 85, 87, 89, 91, 93, 95, 97, 99]\n"
     ]
    }
   ],
   "source": [
    "#Solution to print odd numbers from 1 to 100\n",
    "myList = [i for i in range(1, 100)]\n",
    "\n",
    "odd_numbers = [num for num in range(1, 101) if num % 2 != 0]\n",
    "print(odd_numbers)"
   ]
  },
  {
   "cell_type": "markdown",
   "id": "f79d050a-b399-4dc1-b813-d4347b528233",
   "metadata": {},
   "source": [
    "We use a list comprehension to create a list of numbers in the range 1 to 100 and to iterate through these numbers. The if statement filters the numbers to only include those that are odd (i.e., those with a remainder of 1 when divided by 2). Finally, the resulting list of odd numbers is stored in the odd_numbers variable and printed."
   ]
  },
  {
   "cell_type": "markdown",
   "id": "68c783b3-88d1-42c6-9926-e10c7630305f",
   "metadata": {},
   "source": [
    "#End of Assigment"
   ]
  },
  {
   "cell_type": "code",
   "execution_count": null,
   "id": "303f3460-4e9c-445c-b8ed-5b72a2530ff8",
   "metadata": {},
   "outputs": [],
   "source": []
  }
 ],
 "metadata": {
  "kernelspec": {
   "display_name": "Python 3 (ipykernel)",
   "language": "python",
   "name": "python3"
  },
  "language_info": {
   "codemirror_mode": {
    "name": "ipython",
    "version": 3
   },
   "file_extension": ".py",
   "mimetype": "text/x-python",
   "name": "python",
   "nbconvert_exporter": "python",
   "pygments_lexer": "ipython3",
   "version": "3.10.8"
  }
 },
 "nbformat": 4,
 "nbformat_minor": 5
}
