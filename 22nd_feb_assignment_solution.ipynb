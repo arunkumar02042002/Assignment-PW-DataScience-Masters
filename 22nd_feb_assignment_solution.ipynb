{
 "cells": [
  {
   "cell_type": "markdown",
   "id": "5848a4b9-5d25-41b8-baf4-497e9bb60545",
   "metadata": {},
   "source": [
    "# Assignment Start"
   ]
  },
  {
   "cell_type": "markdown",
   "id": "812038fe-6922-4769-9e68-c38d017e7dfa",
   "metadata": {},
   "source": [
    "Q1. Create a Pandas Series that contains the following data: 4, 8, 15, 16, 23, and 42. Then, print the series."
   ]
  },
  {
   "cell_type": "code",
   "execution_count": 1,
   "id": "f03c0c5c-21c4-4152-9fed-71bc977af6cd",
   "metadata": {},
   "outputs": [
    {
     "name": "stdout",
     "output_type": "stream",
     "text": [
      "<class 'pandas.core.series.Series'>\n",
      "0     4\n",
      "1     8\n",
      "2    15\n",
      "3    16\n",
      "4    23\n",
      "5    42\n",
      "dtype: int64\n"
     ]
    }
   ],
   "source": [
    "# Solution\n",
    "import pandas as pd\n",
    "\n",
    "# Creating a list of data\n",
    "data=[4,8,15,16,23,42]\n",
    "\n",
    "# Creating a pandas series\n",
    "series1 = pd.Series(data)\n",
    "\n",
    "# Checking the type\n",
    "print(type(series1))\n",
    "\n",
    "# Printing the series\n",
    "print(series1)\n",
    "\n",
    "# we can also create pandas series like this \n",
    "# series1 = pd.Series(data=[4,8,15,16,23,42])"
   ]
  },
  {
   "cell_type": "markdown",
   "id": "cd801a16-13b5-4032-b1e1-32a80eab90c3",
   "metadata": {},
   "source": [
    "The output shows that the Pandas Series has been successfully created and contains the given data."
   ]
  },
  {
   "cell_type": "markdown",
   "id": "bc154919-bc63-48e8-a661-d24f03394982",
   "metadata": {},
   "source": [
    "Q.2 Create a variable of list type containing 10 elements in it, and apply pandas.Series function on the variable print it."
   ]
  },
  {
   "cell_type": "code",
   "execution_count": 2,
   "id": "f2b5e412-577a-41ca-8cad-7208bfca9ecd",
   "metadata": {},
   "outputs": [
    {
     "name": "stdout",
     "output_type": "stream",
     "text": [
      "0    0\n",
      "1    1\n",
      "2    2\n",
      "3    3\n",
      "4    4\n",
      "5    5\n",
      "6    6\n",
      "7    7\n",
      "8    8\n",
      "9    9\n",
      "dtype: int64\n"
     ]
    }
   ],
   "source": [
    "# Solution\n",
    "# Creating a list of variables containing 10 elements\n",
    "my_list = [x for x in range(10)]\n",
    "\n",
    "# Applying th pandas.Series on my_list\n",
    "series2 = pd.Series(my_list)\n",
    "\n",
    "# Printing the series\n",
    "print(series2)"
   ]
  },
  {
   "cell_type": "markdown",
   "id": "5ea86e50-66e3-4142-88e2-2e07c8a9a555",
   "metadata": {},
   "source": [
    "The output shows that the Pandas Series has been successfully created and contains my_list."
   ]
  },
  {
   "cell_type": "markdown",
   "id": "e06a804a-e600-455a-83a6-45e1fb71c08e",
   "metadata": {},
   "source": [
    "Q3. Create a Pandas DataFrame that contains the following data:\n",
    "\"Name\", \"Age\", \"Gender\"\n",
    "\"Alice\", 25, \"Female\"\n",
    "\"Bob\", 30, \"Male\"\n",
    "\"Claire\", 27, \"Female\"\n",
    "Then, print the DataFrame."
   ]
  },
  {
   "cell_type": "code",
   "execution_count": 3,
   "id": "ccc423a0-1ed8-409d-b6c9-1aef87dd9bc9",
   "metadata": {},
   "outputs": [
    {
     "name": "stdout",
     "output_type": "stream",
     "text": [
      "     Name  Age  Gender\n",
      "0   Alice   25  Female\n",
      "1     Bob   30    Male\n",
      "2  Claire   27  Female\n",
      "\n",
      "\n",
      "     Name  Age  Gender\n",
      "0   Alice   25  Female\n",
      "1     Bob   30    Male\n",
      "2  Claire   27  Female\n"
     ]
    }
   ],
   "source": [
    "# For the given data we can create dict, lists, or a file\n",
    "\n",
    "# Method 1 - Creating pandas DataFrame using lists\n",
    "columns=[\"Name\", \"Age\", \"Gender\"]\n",
    "data=[[\"Alice\", 25, \"Female\"], [\"Bob\", 30, \"Male\"], [\"Claire\", 27, \"Female\"]]\n",
    "df = pd.DataFrame(columns=columns, data=data)\n",
    "print(df, end = \"\\n\\n\\n\")\n",
    "\n",
    "# Method 2 - Creating pandas DataFrame using dict\n",
    "data = {\n",
    "    \"Name\":[\"Alice\", \"Bob\", \"Claire\"],\n",
    "    \"Age\":[25,30,27],\n",
    "    \"Gender\":[\"Female\", \"Male\", \"Female\"]\n",
    "}\n",
    "df2 = pd.DataFrame(data)\n",
    "print(df2)"
   ]
  },
  {
   "cell_type": "markdown",
   "id": "ddbad61c-75b1-4e71-86c8-d64f1052ffd2",
   "metadata": {},
   "source": [
    "The output shows that the Pandas DataFrame has been successfully created and contains the given data with the column names \"Name\", \"Age\", and \"Gender\"."
   ]
  },
  {
   "cell_type": "markdown",
   "id": "2c58a476-0e8c-43ce-913b-2224dafb6846",
   "metadata": {},
   "source": [
    "Q4. What is ‘DataFrame’ in pandas and how is it different from pandas.series? Explain with an example."
   ]
  },
  {
   "cell_type": "markdown",
   "id": "a2ff7bb3-ba6e-4d91-b1b6-fd7f547b9e6c",
   "metadata": {},
   "source": [
    "Ans. DataFrame - A DataFrame is a 2-dimensional labeled data structure that can contain columns of different data types, including numerical, categorical, and textual data. It can be thought of as a table or spreadsheet-like data structure where each row represents a single observation or record and each column represents a variable or feature.\n",
    "\n",
    "Series - On the other hand, a Series is a one-dimensional labeled array that can contain data of any type, including numerical, categorical, and textual data. It can be thought of as a single column of a DataFrame."
   ]
  },
  {
   "cell_type": "code",
   "execution_count": 4,
   "id": "a74894fe-6504-4cf6-a594-f0a222c4dd21",
   "metadata": {},
   "outputs": [
    {
     "name": "stdout",
     "output_type": "stream",
     "text": [
      "DataFrame:\n",
      "     Name  Age  Gender\n",
      "0   Alice   25  Female\n",
      "1     Bob   30    Male\n",
      "2  Claire   27  Female\n",
      "\n",
      "Series :\n",
      "0     Alice\n",
      "1       Bob\n",
      "2    Claire\n",
      "Name: Name, dtype: object\n"
     ]
    }
   ],
   "source": [
    "# An example that demonstrates the difference between a DataFrame and a Series in pandas:\n",
    "# Create a dictionary of Data\n",
    "data = {\n",
    "    \"Name\":[\"Alice\", \"Bob\", \"Claire\"],\n",
    "    \"Age\":[25,30,27],\n",
    "    \"Gender\":[\"Female\", \"Male\", \"Female\"]\n",
    "}\n",
    "\n",
    "# create a DataFrame from the dictionary\n",
    "df = pd.DataFrame(data)\n",
    "\n",
    "# create a Series from the 'Name' column of the DataFrame\n",
    "my_series = df['Name']\n",
    "\n",
    "# print the DataFrame and the Series\n",
    "print(f\"DataFrame:\\n{df}\", end = \"\\n\\n\")\n",
    "print(f\"Series :\\n{my_series}\")"
   ]
  },
  {
   "cell_type": "markdown",
   "id": "7fe36be4-3162-44c5-8fa1-3a2444c904ee",
   "metadata": {},
   "source": [
    "Q.5 What are some common functions you can use to manipulate data in a Pandas DataFrame? Can you give an example of when you might use one of these functions?"
   ]
  },
  {
   "cell_type": "markdown",
   "id": "a4789481-ec07-4201-a162-92b738107539",
   "metadata": {},
   "source": [
    "Ans. There are many functions available in Pandas for manipulating data in a DataFrame. Here are a few common ones:\n",
    "1. head() - This function is used to display the first n rows of a DataFrame. For example, you might use this function to quickly view the top rows of a large DataFrame to get an idea of its contents.\n",
    "2. tail() - This function is used to display the last n rows of a DataFrame. For example, you might use this function to quickly view the bottom rows of a large DataFrame to get an idea of its contents.\n",
    "3. describe() - This function provides a summary of statistics for each column in a DataFrame, including count, mean, standard deviation, minimum, maximum, and quartile values. For example, you might use this function to get a quick overview of the distribution of values in a DataFrame.\n",
    "4. groupby() - This function is used to group a DataFrame by one or more columns and apply a function to the resulting groups. For example, you might use this function to group a DataFrame of sales data by month and calculate the total sales for each month.\n",
    "5. merge() - This function is used to combine two or more DataFrames into a single DataFrame based on a common column. For example, you might use this function to combine a DataFrame of customer data with a DataFrame of sales data to create a single DataFrame that contains both sets of information."
   ]
  },
  {
   "cell_type": "code",
   "execution_count": 5,
   "id": "3f73a25e-007c-40ed-8c78-e4c813bcd72d",
   "metadata": {},
   "outputs": [],
   "source": [
    "# An example to use above functions\n",
    "data = {\n",
    "    \"Name\":[\"Alice\", \"Bob\", \"Claire\", \"Arun\", \"Sudh\", \"Dheeraj\", \"Raman\", \"Krish\"],\n",
    "    \"Age\":[25, 30, 27, 22, 23, 25, 34, 21],\n",
    "    \"Gender\":[\"Female\", \"Male\", \"Female\", \"Male\", \"Male\", \"Male\", \"Male\", \"Male\"],\n",
    "    \"Institutiion\":[\"Havard\", \"Cambridge\", None, \"SLC\", \"Hansraj\", \"IGNOU\", None, \"IIT\"]\n",
    "}\n",
    "\n",
    "# create a DataFrame from the dictionary\n",
    "df = pd.DataFrame(data)"
   ]
  },
  {
   "cell_type": "code",
   "execution_count": 6,
   "id": "e65629e4-fb76-4ec0-95f3-1fc34ad7144d",
   "metadata": {},
   "outputs": [
    {
     "data": {
      "text/html": [
       "<div>\n",
       "<style scoped>\n",
       "    .dataframe tbody tr th:only-of-type {\n",
       "        vertical-align: middle;\n",
       "    }\n",
       "\n",
       "    .dataframe tbody tr th {\n",
       "        vertical-align: top;\n",
       "    }\n",
       "\n",
       "    .dataframe thead th {\n",
       "        text-align: right;\n",
       "    }\n",
       "</style>\n",
       "<table border=\"1\" class=\"dataframe\">\n",
       "  <thead>\n",
       "    <tr style=\"text-align: right;\">\n",
       "      <th></th>\n",
       "      <th>Name</th>\n",
       "      <th>Age</th>\n",
       "      <th>Gender</th>\n",
       "      <th>Institutiion</th>\n",
       "    </tr>\n",
       "  </thead>\n",
       "  <tbody>\n",
       "    <tr>\n",
       "      <th>0</th>\n",
       "      <td>Alice</td>\n",
       "      <td>25</td>\n",
       "      <td>Female</td>\n",
       "      <td>Havard</td>\n",
       "    </tr>\n",
       "    <tr>\n",
       "      <th>1</th>\n",
       "      <td>Bob</td>\n",
       "      <td>30</td>\n",
       "      <td>Male</td>\n",
       "      <td>Cambridge</td>\n",
       "    </tr>\n",
       "  </tbody>\n",
       "</table>\n",
       "</div>"
      ],
      "text/plain": [
       "    Name  Age  Gender Institutiion\n",
       "0  Alice   25  Female       Havard\n",
       "1    Bob   30    Male    Cambridge"
      ]
     },
     "execution_count": 6,
     "metadata": {},
     "output_type": "execute_result"
    }
   ],
   "source": [
    "# Returns the first 2 rows\n",
    "df.head(2)"
   ]
  },
  {
   "cell_type": "code",
   "execution_count": 7,
   "id": "23f5142c-7ab5-4294-a747-70603fc6ad1e",
   "metadata": {},
   "outputs": [
    {
     "data": {
      "text/html": [
       "<div>\n",
       "<style scoped>\n",
       "    .dataframe tbody tr th:only-of-type {\n",
       "        vertical-align: middle;\n",
       "    }\n",
       "\n",
       "    .dataframe tbody tr th {\n",
       "        vertical-align: top;\n",
       "    }\n",
       "\n",
       "    .dataframe thead th {\n",
       "        text-align: right;\n",
       "    }\n",
       "</style>\n",
       "<table border=\"1\" class=\"dataframe\">\n",
       "  <thead>\n",
       "    <tr style=\"text-align: right;\">\n",
       "      <th></th>\n",
       "      <th>Name</th>\n",
       "      <th>Age</th>\n",
       "      <th>Gender</th>\n",
       "      <th>Institutiion</th>\n",
       "    </tr>\n",
       "  </thead>\n",
       "  <tbody>\n",
       "    <tr>\n",
       "      <th>6</th>\n",
       "      <td>Raman</td>\n",
       "      <td>34</td>\n",
       "      <td>Male</td>\n",
       "      <td>None</td>\n",
       "    </tr>\n",
       "    <tr>\n",
       "      <th>7</th>\n",
       "      <td>Krish</td>\n",
       "      <td>21</td>\n",
       "      <td>Male</td>\n",
       "      <td>IIT</td>\n",
       "    </tr>\n",
       "  </tbody>\n",
       "</table>\n",
       "</div>"
      ],
      "text/plain": [
       "    Name  Age Gender Institutiion\n",
       "6  Raman   34   Male         None\n",
       "7  Krish   21   Male          IIT"
      ]
     },
     "execution_count": 7,
     "metadata": {},
     "output_type": "execute_result"
    }
   ],
   "source": [
    "# Returns the last 2 rows \n",
    "df.tail(2)"
   ]
  },
  {
   "cell_type": "code",
   "execution_count": 8,
   "id": "b2822059-0fc7-46f6-8cc7-a8f881784c2b",
   "metadata": {},
   "outputs": [
    {
     "data": {
      "text/html": [
       "<div>\n",
       "<style scoped>\n",
       "    .dataframe tbody tr th:only-of-type {\n",
       "        vertical-align: middle;\n",
       "    }\n",
       "\n",
       "    .dataframe tbody tr th {\n",
       "        vertical-align: top;\n",
       "    }\n",
       "\n",
       "    .dataframe thead th {\n",
       "        text-align: right;\n",
       "    }\n",
       "</style>\n",
       "<table border=\"1\" class=\"dataframe\">\n",
       "  <thead>\n",
       "    <tr style=\"text-align: right;\">\n",
       "      <th></th>\n",
       "      <th>Age</th>\n",
       "    </tr>\n",
       "  </thead>\n",
       "  <tbody>\n",
       "    <tr>\n",
       "      <th>count</th>\n",
       "      <td>8.00000</td>\n",
       "    </tr>\n",
       "    <tr>\n",
       "      <th>mean</th>\n",
       "      <td>25.87500</td>\n",
       "    </tr>\n",
       "    <tr>\n",
       "      <th>std</th>\n",
       "      <td>4.35685</td>\n",
       "    </tr>\n",
       "    <tr>\n",
       "      <th>min</th>\n",
       "      <td>21.00000</td>\n",
       "    </tr>\n",
       "    <tr>\n",
       "      <th>25%</th>\n",
       "      <td>22.75000</td>\n",
       "    </tr>\n",
       "    <tr>\n",
       "      <th>50%</th>\n",
       "      <td>25.00000</td>\n",
       "    </tr>\n",
       "    <tr>\n",
       "      <th>75%</th>\n",
       "      <td>27.75000</td>\n",
       "    </tr>\n",
       "    <tr>\n",
       "      <th>max</th>\n",
       "      <td>34.00000</td>\n",
       "    </tr>\n",
       "  </tbody>\n",
       "</table>\n",
       "</div>"
      ],
      "text/plain": [
       "            Age\n",
       "count   8.00000\n",
       "mean   25.87500\n",
       "std     4.35685\n",
       "min    21.00000\n",
       "25%    22.75000\n",
       "50%    25.00000\n",
       "75%    27.75000\n",
       "max    34.00000"
      ]
     },
     "execution_count": 8,
     "metadata": {},
     "output_type": "execute_result"
    }
   ],
   "source": [
    "# Describes the age column as it is the only column which dtype is integer\n",
    "df.describe()"
   ]
  },
  {
   "cell_type": "code",
   "execution_count": 9,
   "id": "bf0bd324-9a40-41c8-bf23-d8e4aa729b6b",
   "metadata": {},
   "outputs": [
    {
     "name": "stdout",
     "output_type": "stream",
     "text": [
      "        Max Speed\n",
      "Animal           \n",
      "Falcon      375.0\n",
      "Parrot       25.0\n"
     ]
    }
   ],
   "source": [
    "# Understanding groupby\n",
    "df1 = pd.DataFrame({'Animal': ['Falcon', 'Falcon',\n",
    "                              'Parrot', 'Parrot'],\n",
    "                   'Max Speed': [380., 370., 24., 26.]})\n",
    "print(df1.groupby(['Animal']).mean())"
   ]
  },
  {
   "cell_type": "code",
   "execution_count": 13,
   "id": "61e656e7-513e-42bc-be62-b85d6923a2a7",
   "metadata": {},
   "outputs": [
    {
     "data": {
      "text/html": [
       "<div>\n",
       "<style scoped>\n",
       "    .dataframe tbody tr th:only-of-type {\n",
       "        vertical-align: middle;\n",
       "    }\n",
       "\n",
       "    .dataframe tbody tr th {\n",
       "        vertical-align: top;\n",
       "    }\n",
       "\n",
       "    .dataframe thead th {\n",
       "        text-align: right;\n",
       "    }\n",
       "</style>\n",
       "<table border=\"1\" class=\"dataframe\">\n",
       "  <thead>\n",
       "    <tr style=\"text-align: right;\">\n",
       "      <th></th>\n",
       "      <th>Name</th>\n",
       "      <th>Age</th>\n",
       "      <th>Gender</th>\n",
       "      <th>Institutiion</th>\n",
       "      <th>Animal</th>\n",
       "      <th>Max Speed</th>\n",
       "    </tr>\n",
       "  </thead>\n",
       "  <tbody>\n",
       "  </tbody>\n",
       "</table>\n",
       "</div>"
      ],
      "text/plain": [
       "Empty DataFrame\n",
       "Columns: [Name, Age, Gender, Institutiion, Animal, Max Speed]\n",
       "Index: []"
      ]
     },
     "execution_count": 13,
     "metadata": {},
     "output_type": "execute_result"
    }
   ],
   "source": []
  },
  {
   "cell_type": "code",
   "execution_count": 14,
   "id": "cda0ea3f-85e8-4d5c-b4de-c882b64817b0",
   "metadata": {},
   "outputs": [
    {
     "data": {
      "text/html": [
       "<div>\n",
       "<style scoped>\n",
       "    .dataframe tbody tr th:only-of-type {\n",
       "        vertical-align: middle;\n",
       "    }\n",
       "\n",
       "    .dataframe tbody tr th {\n",
       "        vertical-align: top;\n",
       "    }\n",
       "\n",
       "    .dataframe thead th {\n",
       "        text-align: right;\n",
       "    }\n",
       "</style>\n",
       "<table border=\"1\" class=\"dataframe\">\n",
       "  <thead>\n",
       "    <tr style=\"text-align: right;\">\n",
       "      <th></th>\n",
       "      <th>lkey</th>\n",
       "      <th>value_x</th>\n",
       "      <th>rkey</th>\n",
       "      <th>value_y</th>\n",
       "    </tr>\n",
       "  </thead>\n",
       "  <tbody>\n",
       "    <tr>\n",
       "      <th>0</th>\n",
       "      <td>foo</td>\n",
       "      <td>1</td>\n",
       "      <td>foo</td>\n",
       "      <td>5</td>\n",
       "    </tr>\n",
       "    <tr>\n",
       "      <th>1</th>\n",
       "      <td>foo</td>\n",
       "      <td>1</td>\n",
       "      <td>foo</td>\n",
       "      <td>8</td>\n",
       "    </tr>\n",
       "    <tr>\n",
       "      <th>2</th>\n",
       "      <td>foo</td>\n",
       "      <td>5</td>\n",
       "      <td>foo</td>\n",
       "      <td>5</td>\n",
       "    </tr>\n",
       "    <tr>\n",
       "      <th>3</th>\n",
       "      <td>foo</td>\n",
       "      <td>5</td>\n",
       "      <td>foo</td>\n",
       "      <td>8</td>\n",
       "    </tr>\n",
       "    <tr>\n",
       "      <th>4</th>\n",
       "      <td>bar</td>\n",
       "      <td>2</td>\n",
       "      <td>bar</td>\n",
       "      <td>6</td>\n",
       "    </tr>\n",
       "    <tr>\n",
       "      <th>5</th>\n",
       "      <td>baz</td>\n",
       "      <td>3</td>\n",
       "      <td>baz</td>\n",
       "      <td>7</td>\n",
       "    </tr>\n",
       "  </tbody>\n",
       "</table>\n",
       "</div>"
      ],
      "text/plain": [
       "  lkey  value_x rkey  value_y\n",
       "0  foo        1  foo        5\n",
       "1  foo        1  foo        8\n",
       "2  foo        5  foo        5\n",
       "3  foo        5  foo        8\n",
       "4  bar        2  bar        6\n",
       "5  baz        3  baz        7"
      ]
     },
     "execution_count": 14,
     "metadata": {},
     "output_type": "execute_result"
    }
   ],
   "source": [
    "# Understanding merge function\n",
    "df1 = pd.DataFrame({'lkey': ['foo', 'bar', 'baz', 'foo'],\n",
    "                    'value': [1, 2, 3, 5]})\n",
    "df2 = pd.DataFrame({'rkey': ['foo', 'bar', 'baz', 'foo'],\n",
    "                    'value': [5, 6, 7, 8]})\n",
    "df1.merge(df2, left_on='lkey', right_on='rkey')"
   ]
  },
  {
   "cell_type": "markdown",
   "id": "278a2e6b-5848-4f9f-898c-262e05e58a9f",
   "metadata": {},
   "source": [
    "Q6. Which of the following is mutable in nature Series, DataFrame, Panel?\n",
    "\n",
    "Ans. Both Series and DataFrame are mutable in nature, while Panel has been removed from pandas since version 0.25.0."
   ]
  },
  {
   "cell_type": "markdown",
   "id": "0dac5431-f407-46e8-bd4b-4375639b0a46",
   "metadata": {},
   "source": [
    "Q7. Create a DataFrame using multiple Series. Explain with an example."
   ]
  }
 ],
 "metadata": {
  "kernelspec": {
   "display_name": "Python 3 (ipykernel)",
   "language": "python",
   "name": "python3"
  },
  "language_info": {
   "codemirror_mode": {
    "name": "ipython",
    "version": 3
   },
   "file_extension": ".py",
   "mimetype": "text/x-python",
   "name": "python",
   "nbconvert_exporter": "python",
   "pygments_lexer": "ipython3",
   "version": "3.10.8"
  }
 },
 "nbformat": 4,
 "nbformat_minor": 5
}
