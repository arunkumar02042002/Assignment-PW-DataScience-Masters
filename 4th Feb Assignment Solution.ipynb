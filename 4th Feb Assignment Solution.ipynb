{
 "cells": [
  {
   "cell_type": "markdown",
   "id": "708e0534-28d9-48f8-8e73-ad941cdfd32a",
   "metadata": {},
   "source": [
    "# Assignment Start"
   ]
  },
  {
   "cell_type": "markdown",
   "id": "8cc4c868-4d3a-40e0-a70e-d877b7f1b6c7",
   "metadata": {},
   "source": [
    "Q1. Create a python program to sort the given list of tuples based on integer value using a\n",
    "lambda function.\n",
    "[('Sachin Tendulkar', 34357), ('Ricky Ponting', 27483), ('Jack Kallis', 25534), ('Virat Kohli', 24936)]"
   ]
  },
  {
   "cell_type": "code",
   "execution_count": 2,
   "id": "5d1683d5-77b5-4428-848a-f6d3cbd7513e",
   "metadata": {},
   "outputs": [
    {
     "name": "stdout",
     "output_type": "stream",
     "text": [
      "[('Virat Kohli', 24936), ('Jack Kallis', 25534), ('Ricky Ponting', 27483), ('Sachin Tendulkar', 34357)]\n"
     ]
    }
   ],
   "source": [
    "#Python program to sort the given list of tuples based on the integer value using a lambda function.\n",
    "myList = [('Sachin Tendulkar', 34357), ('Ricky Ponting', 27483), ('Jack Kallis', 25534), ('Virat Kohli', 24936)]\n",
    "myList.sort(key = lambda x : x[1])\n",
    "print(myList)"
   ]
  },
  {
   "cell_type": "markdown",
   "id": "9879e558-6f7f-402a-8094-2b7d919e1778",
   "metadata": {},
   "source": [
    "In this program, we use the sort() function to sort the list of tuples based on the second element of each tuple. We specify a key argument which is a lambda function that takes a tuple x and returns its second element x[1]. This tells the sort() function to sort the list based on the second element of each tuple."
   ]
  },
  {
   "cell_type": "markdown",
   "id": "1fba59c6-658b-4e60-8a55-d5935852dfa9",
   "metadata": {},
   "source": [
    "Q.2 Write a Python Program to find the squares of all the numbers in the given list of integers using lambda and map functions.\n",
    "[1, 2, 3, 4, 5, 6, 7, 8, 9, 10]"
   ]
  },
  {
   "cell_type": "code",
   "execution_count": 9,
   "id": "5c1fce7d-e5c6-480c-bffc-8d0dcc8fc522",
   "metadata": {},
   "outputs": [
    {
     "name": "stdout",
     "output_type": "stream",
     "text": [
      "[1, 4, 9, 16, 25, 36, 49, 64, 81, 100]\n"
     ]
    }
   ],
   "source": [
    "#Python program to find the square of all the numbers in the given list of integer using lambda and map functions.\n",
    "myList = [1, 2, 3, 4, 5, 6, 7, 8, 9, 10]\n",
    "sqrList = list(map(lambda x : x ** 2, myList))\n",
    "print(sqrList)"
   ]
  },
  {
   "cell_type": "markdown",
   "id": "72d1d49f-1ac6-41d4-9034-fdc3b535322c",
   "metadata": {},
   "source": [
    "In this program, we use the map() function to apply a lambda function to each element in the list. The lambda function takes a single argument x and returns its square x**2. We convert the resulting map object to a list and store it in the sqrList variable.\n",
    "\n",
    "Finally, we print the sqrList list to the console, which contains the squares of all the numbers in the original list."
   ]
  },
  {
   "cell_type": "markdown",
   "id": "058343dc-556d-47d6-8392-78435876fbf9",
   "metadata": {},
   "source": [
    "Q.3 Write a python program to convert the given list of integers into a tuple of strings. Use map and lambda functions.\n",
    "Given String: [1, 2, 3, 4, 5, 6, 7, 8, 9, 10]"
   ]
  },
  {
   "cell_type": "code",
   "execution_count": 10,
   "id": "60858bff-72c6-414e-be97-c578b2d754e6",
   "metadata": {},
   "outputs": [
    {
     "name": "stdout",
     "output_type": "stream",
     "text": [
      "('1', '2', '3', '4', '5', '6', '7', '8', '9', '10')\n"
     ]
    }
   ],
   "source": [
    "#Python program to convert the given list of integer into a tuple of strings using lambda and map functions.\n",
    "myList = [1, 2, 3, 4, 5, 6, 7, 8, 9, 10]\n",
    "strTuple = tuple(map(lambda x : str(x), myList))\n",
    "print(strTuple)"
   ]
  },
  {
   "cell_type": "markdown",
   "id": "62ef3d20-e0ac-4fb8-befb-28634ff650ca",
   "metadata": {},
   "source": [
    "In this program, we use the map() function to apply a lambda function to each element in the list. The lambda function takes a single argument x and converts it to a string using the str() function. We then convert the resulting map object to a tuple and store it in the strTuple variable.\n",
    "\n",
    "Finally, we print the strTuple to the console, which contains the converted tuple of strings."
   ]
  },
  {
   "cell_type": "markdown",
   "id": "b62a3c3b-9f51-4e2f-90e9-03a126c0c990",
   "metadata": {},
   "source": [
    "Q. 5 Write a python program using reduce function to compute the product of a list containing numbers from 1 to 25."
   ]
  },
  {
   "cell_type": "code",
   "execution_count": 12,
   "id": "da07a894-4922-435e-997a-03a2ce414222",
   "metadata": {},
   "outputs": [
    {
     "name": "stdout",
     "output_type": "stream",
     "text": [
      "15511210043330985984000000\n"
     ]
    }
   ],
   "source": [
    "#Python program to computer the product of a list containing numbers from 1 to 25 using reduce function\n",
    "import functools\n",
    "myList = list(range(1, 26))\n",
    "product = functools.reduce(lambda a, b : a*b, myList)\n",
    "print(product)"
   ]
  },
  {
   "cell_type": "markdown",
   "id": "7abed17d-bbbe-4d39-b766-34275a209763",
   "metadata": {},
   "source": [
    "In this program, we first import the functools module. We create a list data containing numbers from 1 to 25 using the range() function and the list() constructor. We then use the reduce() function to compute the product of all the numbers in the list. The lambda function takes two arguments a and b and returns their product a*b. This tells the reduce() function to multiply each element in the list with the previous result.\n",
    "\n",
    "The final product is stored in the product variable and printed to the console."
   ]
  },
  {
   "cell_type": "markdown",
   "id": "d907d319-4485-4026-a2df-8e861151d0d8",
   "metadata": {},
   "source": [
    "Q.5 Write a python program to filter the numbers in a given list that are divisible by 2 and 3 using the\n",
    "filter function. [2, 3, 6, 9, 27, 60, 90, 120, 55, 46]"
   ]
  },
  {
   "cell_type": "code",
   "execution_count": 20,
   "id": "d162146a-2d2c-4965-b615-4e0ff3a9d8ef",
   "metadata": {},
   "outputs": [
    {
     "name": "stdout",
     "output_type": "stream",
     "text": [
      "6 60 90 120 "
     ]
    }
   ],
   "source": [
    "#Python program to filter the numbers in a given list that are divisible by 2 and 3 using the filter function.\n",
    "myList = [2, 3, 6, 9, 27, 60, 90, 120, 55, 46]\n",
    "\n",
    "filtered_list = filter(lambda x : x%2 == 0 and x%3==0, myList)\n",
    "#We can convert the filtered_list (a filter object) into a list and print it\n",
    "#print(list(filtered_list))\n",
    "\n",
    "for i in filtered_list:\n",
    "    print (i, end = \" \")"
   ]
  },
  {
   "cell_type": "markdown",
   "id": "abc0683c-aeda-45c9-8c0d-300c9cbf41fc",
   "metadata": {},
   "source": [
    "Q.6 Write a python program to find palindromes in the given list of strings using lambda and filter function.\n",
    "['python', 'php', 'aba', 'radar', 'level']"
   ]
  },
  {
   "cell_type": "code",
   "execution_count": 28,
   "id": "537dac57-b131-46a5-90c6-24f5800a5f7c",
   "metadata": {},
   "outputs": [
    {
     "name": "stdout",
     "output_type": "stream",
     "text": [
      "['php', 'aba', 'radar', 'level']\n"
     ]
    }
   ],
   "source": [
    "#Python program to find palindromes in the given list of strings using lambda and filter function.\n",
    "myList = ['python', 'php', 'aba', 'radar', 'level']\n",
    "palindorme_list = list(filter(lambda x : x == x[::-1], myList))\n",
    "print(palindorme_list)                "
   ]
  },
  {
   "cell_type": "markdown",
   "id": "d359cce3-934d-4b20-9325-17f4c3a91439",
   "metadata": {},
   "source": [
    "In this program, we use the filter() function to filter the elements in the list that are palindromes. The lambda function takes a single argument x and returns a Boolean value indicating whether x is equal to its reverse. We then convert the resulting filter object to a list and store it in the palindorme_list variable.\n",
    "Finally, we print the palindromes list to the console, which contains the palindorme_list in the original list."
   ]
  },
  {
   "cell_type": "markdown",
   "id": "c2e55c0b-7ca7-4c47-a4e3-f2713bb4edef",
   "metadata": {},
   "source": [
    "# End of Assignment"
   ]
  }
 ],
 "metadata": {
  "kernelspec": {
   "display_name": "Python 3 (ipykernel)",
   "language": "python",
   "name": "python3"
  },
  "language_info": {
   "codemirror_mode": {
    "name": "ipython",
    "version": 3
   },
   "file_extension": ".py",
   "mimetype": "text/x-python",
   "name": "python",
   "nbconvert_exporter": "python",
   "pygments_lexer": "ipython3",
   "version": "3.10.8"
  }
 },
 "nbformat": 4,
 "nbformat_minor": 5
}
