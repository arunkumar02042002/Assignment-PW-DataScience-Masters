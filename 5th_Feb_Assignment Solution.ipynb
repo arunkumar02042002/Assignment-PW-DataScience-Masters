{
 "cells": [
  {
   "cell_type": "markdown",
   "id": "56d93fc5-b885-49ed-b834-f969b18b13bc",
   "metadata": {},
   "source": [
    "# Assignment Start"
   ]
  },
  {
   "cell_type": "markdown",
   "id": "89cfa6cf-31e0-4792-b7f3-b711c79560fd",
   "metadata": {},
   "source": [
    "Q1. Explain Class and Object with respect to Object-Oriented Programming. Give a suitable example."
   ]
  },
  {
   "cell_type": "markdown",
   "id": "712440c4-f09e-4c5e-85b9-deb21d353915",
   "metadata": {},
   "source": [
    "Ans. Class - A class is a blueprint for constructing objects in object-oriented programming (OOP). For each instance of the class, it specifies a collection of attributes (data) and methods (functions). \n",
    "Object -  On the other hand, an object is a specific instance of a class. It is a particular, tangible manifestation of the class blueprint, complete with its own set of attribute values and the capacity to use the class's methods."
   ]
  },
  {
   "cell_type": "code",
   "execution_count": 1,
   "id": "ed61dcba-cf18-49b3-8eac-1ad2c3ef62bf",
   "metadata": {},
   "outputs": [
    {
     "name": "stdout",
     "output_type": "stream",
     "text": [
      "Car Name : Toyata Model X, Top Speed : 244km/h, Year of Manufacture : 2021\n",
      "Car Name : Toyata Model Y, Top Speed : 356km/h, Year of Manufacture : 2022\n",
      "Car Name : Toyata Model Z, Top Speed : 512km/h, Year of Manufacture : 2023\n"
     ]
    }
   ],
   "source": [
    "# Example of class and object:\n",
    "#Defining the class name Car\n",
    "class Car:\n",
    "    #Setting the properties\n",
    "    def __init__(self, name, top_speed, year_of_manufacture):\n",
    "        self.name = name\n",
    "        self.top_speed = top_speed\n",
    "        self.year_of_manufacture = year_of_manufacture\n",
    "        \n",
    "    #Defining a method to print details of a Car object    \n",
    "    def printProperties(self):\n",
    "        return f\"Car Name : {self.name}, Top Speed : {self.top_speed}km/h, Year of Manufacture : {self.year_of_manufacture}\"\n",
    "#Creating objects of class Car\n",
    "car1 = Car(\"Toyata Model X\", 244, 2021)\n",
    "car2 = Car(\"Toyata Model Y\", 356, 2022)\n",
    "car3 = Car(\"Toyata Model Z\", 512, 2023)\n",
    "\n",
    "#Accessing the Car methods uisng its object\n",
    "print(car1.printProperties())\n",
    "print(car2.printProperties())\n",
    "print(car3.printProperties())"
   ]
  },
  {
   "cell_type": "markdown",
   "id": "34f436dc-0055-4dfa-8348-6770ea759ff7",
   "metadata": {},
   "source": [
    "In this example, the Car class defines a set of attributes (name, top_speed, and year_of_manufacture) and method (printProperties) that describe the behavior of a car. Three objects (car1, car2 and car3) are created from this class using the __init__ method, with different values for their name, top_speed, and year_of_manufacture.\n",
    "\n",
    "At the end of the program, we have printed the properties of objects (car1, car2 and car3) using printProperties method."
   ]
  },
  {
   "cell_type": "markdown",
   "id": "8679e137-6b91-4478-9445-2f0951750660",
   "metadata": {},
   "source": [
    "Q.2 Name the four pillars of OOPs."
   ]
  },
  {
   "cell_type": "markdown",
   "id": "26074026-7905-44ca-9d31-5d6d0063d35a",
   "metadata": {},
   "source": [
    "The following are the four foundational pillars of object-oriented programming (OOPs):\n",
    "1. Encapsulation - Encapsulation is the process of grouping an object's properties and methods together and limiting access to them from outside the object in order to hide the complexity of the behaviour and internal workings of the object. Data security is provided through encapsulation, which also makes sure that only approved methods can change an object's state."
   ]
  },
  {
   "cell_type": "code",
   "execution_count": 2,
   "id": "b650de2b-4450-4b0c-a4f4-d83b4ba79365",
   "metadata": {},
   "outputs": [
    {
     "name": "stdout",
     "output_type": "stream",
     "text": [
      "1300\n"
     ]
    }
   ],
   "source": [
    "#Example of Encapsulation\n",
    "class BankAccount:\n",
    "    \"\"\"In this example the balance attribute of a perticular account is hidden,\n",
    "and can only be accessed and modified through controlled methods (deposit(), withdraw(), and get_balance()).\n",
    "This ensures that the account balance can only be modified in a safe and controlled manner.\"\"\"\n",
    "    def __init__(self, balance):\n",
    "        #Hiding the balanace from outside of the world\n",
    "        self._balance = balance\n",
    "    \n",
    "    def deposit(self, amount):\n",
    "        self._balance += amount\n",
    "\n",
    "    def withdraw(self, amount):\n",
    "        if amount <= self._balance:\n",
    "            self._balance -= amount\n",
    "        else:\n",
    "            print(\"Insufficient funds\")\n",
    "\n",
    "    def get_balance(self):\n",
    "        return self._balance\n",
    "\n",
    "account = BankAccount(1000)\n",
    "account.deposit(500)\n",
    "account.withdraw(200)\n",
    "print(account.get_balance())"
   ]
  },
  {
   "cell_type": "markdown",
   "id": "dce2e68e-9487-440b-9690-8ea5cb69dc2d",
   "metadata": {},
   "source": [
    "2. Abstraction - This is the capacity to represent real-world objects as classes, disclose only the key characteristics and actions of those objects, and conceal their extraneous complexity. Abstraction enables you to disregard non-essential characteristics and concentrate on an object's core features."
   ]
  },
  {
   "cell_type": "code",
   "execution_count": 3,
   "id": "65638b4f-0ea7-42ac-ad0c-5fc36eb12c83",
   "metadata": {},
   "outputs": [
    {
     "name": "stdout",
     "output_type": "stream",
     "text": [
      "Woof!\n",
      "Meow!\n"
     ]
    }
   ],
   "source": [
    "#Example\n",
    "from abc import ABC, abstractmethod\n",
    "\n",
    "\"\"\"In this example, the Animal class represents the abstraction of an animal,\n",
    "with a single abstract method make_sound() that every animal should implement.\"\"\"\n",
    "class Animal(ABC):\n",
    "    @abstractmethod\n",
    "    def make_sound(self):\n",
    "        pass\n",
    "\n",
    "\"\"\"The Dog and Cat classes are concrete implementations of the Animal class,\n",
    "each defining their own make_sound() method.\"\"\"\n",
    "class Dog(Animal):\n",
    "    def make_sound(self):\n",
    "        print(\"Woof!\")\n",
    "\n",
    "class Cat(Animal):\n",
    "    def make_sound(self):\n",
    "        print(\"Meow!\")\n",
    "\n",
    "#Creating object of Dog Class\n",
    "dog = Dog()\n",
    "\n",
    "#Creating object of Cat Class\n",
    "cat = Cat()\n",
    "\n",
    "\"\"\"This demonstrates the ability to work with objects at a high level of abstraction,\n",
    "without worrying about their specific implementation details.\"\"\"\n",
    "dog.make_sound()\n",
    "cat.make_sound()"
   ]
  },
  {
   "cell_type": "markdown",
   "id": "6d00b842-44d2-40cf-b5c7-cd5824c8e237",
   "metadata": {},
   "source": [
    "3. Inheritance - Inheritance refers to a class's capacity to take up traits and behaviors from a parent class. By using inheritance, you can reuse the parent class's code and behaviour to create a new class that is a customised or specialised version of an existing class."
   ]
  },
  {
   "cell_type": "code",
   "execution_count": 4,
   "id": "b5c58a2e-0745-4ad2-a8db-1661777fcbc7",
   "metadata": {},
   "outputs": [
    {
     "name": "stdout",
     "output_type": "stream",
     "text": [
      "Maker : Honda, Model : Accord, Year of Manufacture : 2022,  Number of tyres : 4, number of doors : 4 doors\n",
      "Maker : Hero, Model : Passon Pro, Year of Manufacture : 2023,  Number of tyres : 2, Engine Size : 600cc engine\n"
     ]
    }
   ],
   "source": [
    "#Example\n",
    "\n",
    "\"\"\"The Vehicle class defines the common attributes and methods for all vehicles, such as maker, model, year_of_manufacture, and number_of_tyres.\"\"\"\n",
    "class Vehicle:\n",
    "    def __init__(self, maker, model, year_of_manufacture, number_of_tyres):\n",
    "        self.maker = maker\n",
    "        self.model = model\n",
    "        self.year_of_manufacture = year_of_manufacture\n",
    "        self.number_of_tyres = number_of_tyres\n",
    "\n",
    "    def get_description(self):\n",
    "        return f\"Maker : {self.maker}, Model : {self.model}, Year of Manufacture : {self.year_of_manufacture},  Number of tyres : {self.number_of_tyres}\"\n",
    "\n",
    "\"\"\"The Car and Motorcycle classes inherit from the Vehicle class and add their own specific attributes (num_doors and engine_size) and\n",
    "override the get_description() method to include their own information.\n",
    "The super() function is used to call the parent class method within the overridden method.\"\"\"\n",
    "class Car(Vehicle):\n",
    "    def __init__(self, maker, model, year_of_manufacture, number_of_tyres, num_doors):\n",
    "        super().__init__(maker, model, year_of_manufacture, number_of_tyres)\n",
    "        self.num_doors = num_doors\n",
    "\n",
    "    def get_description(self):\n",
    "        return f\"{super().get_description()}, number of doors : {self.num_doors} doors\"\n",
    "\n",
    "class Motorcycle(Vehicle):\n",
    "    def __init__(self, maker, model, year_of_manufacture, number_of_tyres, engine_size):\n",
    "        super().__init__(maker, model, year_of_manufacture, number_of_tyres)\n",
    "        self.engine_size = engine_size\n",
    "\n",
    "    def get_description(self):\n",
    "        return f\"{super().get_description()}, Engine Size : {self.engine_size}cc engine\"\n",
    "\n",
    "car = Car(\"Honda\", \"Accord\", 2022, 4, 4)\n",
    "motorcycle = Motorcycle(\"Hero\", \"Passon Pro\", 2023, 2, 600)\n",
    "\n",
    "print(car.get_description())\n",
    "print(motorcycle.get_description())\n"
   ]
  },
  {
   "cell_type": "markdown",
   "id": "4a733e13-920c-411b-b8cf-f3f90afa7eca",
   "metadata": {},
   "source": [
    "4. Polymorphism - Polymorphism refers to the capability of using objects from several classes interchangeably in the same situation. When writing code, polymorphism enables you to interact with objects of various kinds and classes as long as they have a similar interface or behaviour."
   ]
  },
  {
   "cell_type": "code",
   "execution_count": 5,
   "id": "a394abdf-9138-495d-a150-495a2777c98e",
   "metadata": {},
   "outputs": [
    {
     "name": "stdout",
     "output_type": "stream",
     "text": [
      "The area of the shape is 12\n",
      "The area of the shape is 78.5\n"
     ]
    }
   ],
   "source": [
    "#Example\n",
    "\n",
    "\"\"\"We define a Shape class with a single method area(), which is not implemented.\"\"\"\n",
    "class Shape:\n",
    "    def area(self):\n",
    "        pass\n",
    "\"\"\"We then create two subclasses, Rectangle and Circle, each with their own implementation of the area() method.\"\"\"\n",
    "class Rectangle(Shape):\n",
    "    def __init__(self, length, width):\n",
    "        self.length = length\n",
    "        self.width = width\n",
    "\n",
    "    def area(self):\n",
    "        return self.length * self.width\n",
    "\n",
    "class Circle(Shape):\n",
    "    def __init__(self, radius):\n",
    "        self.radius = radius\n",
    "\n",
    "    def area(self):\n",
    "        return 3.14 * (self.radius ** 2)\n",
    "    \n",
    "\"\"\"Finally, we create a list of Shape objects, which can contain objects of any subclass of Shape.\"\"\"\n",
    "shapes = [Rectangle(3, 4), Circle(5)]\n",
    "\n",
    "\"\"\"When we loop through the list and call the area() method on each object, Python automatically determines\n",
    "which implementation of area() to call based on the type of object.\n",
    "This is polymorphism - the ability of objects of different types to be used interchangeably in the same context.\"\"\"\n",
    "for shape in shapes:\n",
    "    print(f\"The area of the shape is {shape.area()}\")\n"
   ]
  },
  {
   "cell_type": "markdown",
   "id": "f4d250eb-ec95-4991-9030-9836e2b9d248",
   "metadata": {},
   "source": [
    "Q.3 Explain why the __init__() function is used. Give a suitable example."
   ]
  },
  {
   "cell_type": "markdown",
   "id": "d6f3a699-abf5-4e8a-bc24-5cdb300ae56e",
   "metadata": {},
   "source": [
    "Ans. The __init__() function is a special method in Python classes that is used to initialize the instance variables of an object. It is called when an object is created and can be used to set initial values for the object's attributes."
   ]
  },
  {
   "cell_type": "code",
   "execution_count": 6,
   "id": "80aad453-8d24-4ab0-917b-ae867538acdb",
   "metadata": {},
   "outputs": [
    {
     "name": "stdout",
     "output_type": "stream",
     "text": [
      "Name : Arun, Age : 21\n"
     ]
    }
   ],
   "source": [
    "#Example\n",
    "#Defining class named Person\n",
    "class Person:\n",
    "    #Setting the properties using __init__ method\n",
    "    def __init__(self, name, age):\n",
    "        self.name = name\n",
    "        self.age = age\n",
    "        \n",
    "#Creating an object\n",
    "person = Person(\"Arun\", 21)\n",
    "\n",
    "#Printing properties of an object\n",
    "print(f\"Name : {person.name}, Age : {person.age}\")  "
   ]
  },
  {
   "cell_type": "markdown",
   "id": "cd9a51e4-a381-4ff0-82d1-b3c2b61c6bcd",
   "metadata": {},
   "source": [
    "Q. 4 Why self is used in OOPs?"
   ]
  },
  {
   "cell_type": "markdown",
   "id": "5b81f518-7800-465e-84cc-3456ca55acdf",
   "metadata": {},
   "source": [
    "Ans. In object-oriented programming (OOP) in python, self is a reference to the instance of a class. It is a parameter that is passed automatically to every method of a class, including the __init__() method.\n",
    "When a method is called on an instance of a class, Python automatically passes the instance as the first argument to the method, which is why self is used as the first parameter in the method definition. By convention, self is the name given to this first parameter, although it can technically be named anything."
   ]
  },
  {
   "cell_type": "markdown",
   "id": "31bebd99-32a2-497f-811b-bd96c8841388",
   "metadata": {},
   "source": [
    "Q.5 What is inheritance? Give an example for each type of inheritance."
   ]
  },
  {
   "cell_type": "markdown",
   "id": "80e5ebb6-89f9-486e-b2c1-45afdd9b5e4e",
   "metadata": {},
   "source": [
    "##### Already explained inderitence. Using the same example for this question."
   ]
  },
  {
   "cell_type": "markdown",
   "id": "3f9bdeb3-1d08-4285-8392-59a9fa3e255b",
   "metadata": {},
   "source": [
    "Ans. Inheritance refers to a class's capacity to take up traits and behaviors from a parent class. By using inheritance, you can reuse the parent class's code and behaviour to create a new class that is a customised or specialised version of an existing class."
   ]
  },
  {
   "cell_type": "code",
   "execution_count": 7,
   "id": "99a97ab3-01a7-4d9a-bc3c-f32c99e5c363",
   "metadata": {},
   "outputs": [
    {
     "name": "stdout",
     "output_type": "stream",
     "text": [
      "Maker : Honda, Model : Accord, Year of Manufacture : 2022,  Number of tyres : 4, number of doors : 4 doors\n",
      "Maker : Hero, Model : Passon Pro, Year of Manufacture : 2023,  Number of tyres : 2, Engine Size : 600cc engine\n"
     ]
    }
   ],
   "source": [
    "#Example\n",
    "\"\"\"The Vehicle class defines the common attributes and methods for all vehicles, such as maker, model, year_of_manufacture, and number_of_tyres.\"\"\"\n",
    "class Vehicle:\n",
    "    def __init__(self, maker, model, year_of_manufacture, number_of_tyres):\n",
    "        self.maker = maker\n",
    "        self.model = model\n",
    "        self.year_of_manufacture = year_of_manufacture\n",
    "        self.number_of_tyres = number_of_tyres\n",
    "\n",
    "    def get_description(self):\n",
    "        return f\"Maker : {self.maker}, Model : {self.model}, Year of Manufacture : {self.year_of_manufacture},  Number of tyres : {self.number_of_tyres}\"\n",
    "\n",
    "\"\"\"The Car and Motorcycle classes inherit from the Vehicle class and add their own specific attributes (num_doors and engine_size) and\n",
    "override the get_description() method to include their own information.\n",
    "The super() function is used to call the parent class method within the overridden method.\"\"\"\n",
    "class Car(Vehicle):\n",
    "    def __init__(self, maker, model, year_of_manufacture, number_of_tyres, num_doors):\n",
    "        super().__init__(maker, model, year_of_manufacture, number_of_tyres)\n",
    "        self.num_doors = num_doors\n",
    "\n",
    "    def get_description(self):\n",
    "        return f\"{super().get_description()}, number of doors : {self.num_doors} doors\"\n",
    "\n",
    "class Motorcycle(Vehicle):\n",
    "    def __init__(self, maker, model, year_of_manufacture, number_of_tyres, engine_size):\n",
    "        super().__init__(maker, model, year_of_manufacture, number_of_tyres)\n",
    "        self.engine_size = engine_size\n",
    "\n",
    "    def get_description(self):\n",
    "        return f\"{super().get_description()}, Engine Size : {self.engine_size}cc engine\"\n",
    "\n",
    "car = Car(\"Honda\", \"Accord\", 2022, 4, 4)\n",
    "motorcycle = Motorcycle(\"Hero\", \"Passon Pro\", 2023, 2, 600)\n",
    "\n",
    "print(car.get_description())\n",
    "print(motorcycle.get_description())"
   ]
  },
  {
   "cell_type": "markdown",
   "id": "e8d9a423-2510-48a3-a4cd-c34184efc82a",
   "metadata": {},
   "source": [
    "# End of Assignment"
   ]
  },
  {
   "cell_type": "code",
   "execution_count": null,
   "id": "d7001637-07b9-4985-817e-e353fda34c46",
   "metadata": {},
   "outputs": [],
   "source": []
  }
 ],
 "metadata": {
  "kernelspec": {
   "display_name": "Python 3 (ipykernel)",
   "language": "python",
   "name": "python3"
  },
  "language_info": {
   "codemirror_mode": {
    "name": "ipython",
    "version": 3
   },
   "file_extension": ".py",
   "mimetype": "text/x-python",
   "name": "python",
   "nbconvert_exporter": "python",
   "pygments_lexer": "ipython3",
   "version": "3.10.8"
  }
 },
 "nbformat": 4,
 "nbformat_minor": 5
}
