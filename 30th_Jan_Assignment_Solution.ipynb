{
 "cells": [
  {
   "cell_type": "markdown",
   "id": "4e8342c2-8b21-405a-a223-7d56a7fa1d4d",
   "metadata": {},
   "source": [
    "# Start of the assignment"
   ]
  },
  {
   "cell_type": "markdown",
   "id": "866a9fc6-1f90-40f6-967f-404fb2e7be60",
   "metadata": {},
   "source": [
    "Q.1 Write a program to accept percentage for the user and display the grade."
   ]
  },
  {
   "cell_type": "code",
   "execution_count": 10,
   "id": "27d91f1f-d3c8-4a5b-9f54-70bdb459ccf1",
   "metadata": {},
   "outputs": [
    {
     "name": "stdin",
     "output_type": "stream",
     "text": [
      "Enter Percentage:  90\n"
     ]
    },
    {
     "name": "stdout",
     "output_type": "stream",
     "text": [
      "Grade B\n"
     ]
    }
   ],
   "source": [
    "#Program that accepts a percentage from the user and displays the corresponding grade.\n",
    "percentage = float(input(\"Enter Percentage: \"))\n",
    "if percentage > 90:\n",
    "    print(\"Grade A\")\n",
    "elif percentage > 80:\n",
    "    print(\"Grade B\")\n",
    "elif percentage >= 60:\n",
    "    print(\"Grade C\")\n",
    "else:\n",
    "    print(\"Grade D\")"
   ]
  },
  {
   "cell_type": "markdown",
   "id": "ff12a32e-7c41-4575-96c8-706dd923defe",
   "metadata": {},
   "source": [
    "In this program, we first accept the percentage from the user using the input() function and convert it to a float using the float() function. Then we use a series of if and elif statements to determine the corresponding grade based on the percentage. Finally, we use the print() function to display the grade to the user."
   ]
  },
  {
   "cell_type": "markdown",
   "id": "03200fac-141f-44d4-b844-5ed4fff0198d",
   "metadata": {},
   "source": [
    "Q. 2 Write a program to accept the cost price of a bike and display the road tax to be paid."
   ]
  },
  {
   "cell_type": "code",
   "execution_count": 11,
   "id": "d3ebe94d-af57-4cd4-8eef-164c388dfdd2",
   "metadata": {},
   "outputs": [
    {
     "name": "stdin",
     "output_type": "stream",
     "text": [
      "Enter the cost price of the bike:  50000\n"
     ]
    },
    {
     "name": "stdout",
     "output_type": "stream",
     "text": [
      "The road tax for the bike is 2500.00\n"
     ]
    }
   ],
   "source": [
    "#program that accepts the cost price of a bike from the user and calculates the road tax to be paid.\n",
    "cost_price = float(input(\"Enter the cost price of the bike: \"))\n",
    "\n",
    "if cost_price <= 50000:\n",
    "    road_tax = 0.05 * cost_price\n",
    "elif cost_price <= 100000:\n",
    "    road_tax = 0.1 * cost_price\n",
    "else:\n",
    "    road_tax = 0.15 * cost_price\n",
    "\n",
    "print(f\"The road tax for the bike is {road_tax:.2f}\")\n"
   ]
  },
  {
   "cell_type": "markdown",
   "id": "273ea5ef-290b-4b52-9e4e-64b99a4b841c",
   "metadata": {},
   "source": [
    "In this program, we first accept the cost price of the bike from the user using the input() function and convert it to a float using the float() function. Then we use a series of if and elif statements to determine the road tax to be paid based on the cost price of the bike. Finally, we use the print() function to display the road tax to the user, rounded to 2 decimal places using f-string formatting."
   ]
  },
  {
   "cell_type": "markdown",
   "id": "17ca59b8-d0e0-4496-9b2f-4bfbefbcc472",
   "metadata": {},
   "source": [
    "Q. 3 Accept any city from the user and display monuments of that city."
   ]
  },
  {
   "cell_type": "code",
   "execution_count": 1,
   "id": "d8ed3072-a756-4056-8168-b9cd36a26b79",
   "metadata": {},
   "outputs": [
    {
     "name": "stdin",
     "output_type": "stream",
     "text": [
      "Enter a city name:  agra\n"
     ]
    },
    {
     "name": "stdout",
     "output_type": "stream",
     "text": [
      "The monument of Agra is Taj Mahal:\n"
     ]
    }
   ],
   "source": [
    "#Program to accept any city from the user and display monuments of that city.\n",
    "monuments = {\n",
    "    \"Delhi\": \"Red Fort\",\n",
    "    \"Agra\": \"Taj Mahal\",\n",
    "    \"Jaipur\": \"Jal Mahal\"\n",
    "}\n",
    "\n",
    "city = input(\"Enter a city name: \").capitalize()\n",
    "\n",
    "if city in monuments:\n",
    "    print(f\"The monument of {city} is {monuments.get(city)}:\")\n",
    "else:\n",
    "    print(f\"Sorry, we do not have information on the monuments of {city}.\")"
   ]
  },
  {
   "cell_type": "markdown",
   "id": "e1a5e548-402d-481f-91f6-35b1126766af",
   "metadata": {},
   "source": [
    "Q.4 Check how many time a number can be divided by 3 before it is less than or equal to 10"
   ]
  },
  {
   "cell_type": "code",
   "execution_count": 12,
   "id": "a4fb110e-052b-45b8-9b76-32f191cabecf",
   "metadata": {},
   "outputs": [
    {
     "name": "stdin",
     "output_type": "stream",
     "text": [
      "Enter a number:  98\n"
     ]
    },
    {
     "name": "stdout",
     "output_type": "stream",
     "text": [
      "The 98 can be divided by 3, 3 times before it is less than or equal to 10\n"
     ]
    }
   ],
   "source": [
    "#Program to find the number of times a number can be divide by 3\n",
    "#before it is less than or equal to 10\n",
    "\n",
    "n = int(input(\"Enter a number: \"))\n",
    "count = 0\n",
    "temp = n\n",
    "while temp > 10:\n",
    "    temp = temp/3 # Here, we can use // {integer division} too and the answer may differ.\n",
    "    count += 1\n",
    "\n",
    "print(f\"The {n} can be divided by 3, {count} times before it is less than or equal to 10\")"
   ]
  },
  {
   "cell_type": "markdown",
   "id": "e99514d5-ae69-4a94-b1b3-18e5e5674fd5",
   "metadata": {},
   "source": [
    "In this program, we first accept a number from the user and initialize a counter variable count to 0. Then, we enter a while loop that repeatedly divides the number by 3 as long as it is greater than 10, and increments the counter variable count with each division. Finally, we print the number of times the number can be divided by 3 before it becomes less than or equal to 10."
   ]
  },
  {
   "cell_type": "markdown",
   "id": "2d052d19-8185-4ba4-96ba-3c207edb361b",
   "metadata": {},
   "source": [
    "Q. 5 Why and when to use while loop in Python give a detailed description with example?\n",
    "\n",
    "Ans. The while loop is a control flow statement in Python that allows you to execute a block of code repeatedly as long as a certain condition is true. The syntax of the while loop is as follows:\n",
    "\n",
    "while condition:\n",
    "    # code to be executed while condition is true\n",
    "    \n",
    "The condition can be any expression that evaluates to a Boolean value (True or False). The code block is executed repeatedly as long as the condition is true, and stops when the condition becomes false.\n",
    "\n",
    "The while loop is useful when you need to repeat a certain operation until a specific condition is met. For example, if you want to print the numbers from 1 to 10, you can use a while loop as follows:"
   ]
  },
  {
   "cell_type": "code",
   "execution_count": 14,
   "id": "e9071fc0-4f62-4e0f-aad9-96770dcf0aa4",
   "metadata": {},
   "outputs": [
    {
     "name": "stdout",
     "output_type": "stream",
     "text": [
      "1 2 3 4 5 6 7 8 9 10 "
     ]
    }
   ],
   "source": [
    "n = 1\n",
    "while n <= 10:\n",
    "    print(n, end = \" \")\n",
    "    n += 1"
   ]
  },
  {
   "cell_type": "markdown",
   "id": "82b04e8f-b476-45e1-85f2-20a9b3a37ba1",
   "metadata": {},
   "source": [
    "In this example, we initialize a variable n to 1, and enter a while loop that checks if n is less than or equal to 10. If the condition is true, we print the value of n and increment it by 1. This process continues until n becomes 11, at which point the condition becomes false and the loop exits.\n",
    "\n",
    "Another example where the while loop can be useful is when you are processing user input or data from a file. For example, if you are accepting user input for a quiz program and want to keep accepting input until the user enters a certain keyword, you can use a while loop as follows:"
   ]
  },
  {
   "cell_type": "code",
   "execution_count": 15,
   "id": "5f6cc37f-8cb7-4ac4-99a5-f7a745852868",
   "metadata": {},
   "outputs": [
    {
     "name": "stdin",
     "output_type": "stream",
     "text": [
      "Enter your answer ('quit' to exit):  hi\n"
     ]
    },
    {
     "name": "stdout",
     "output_type": "stream",
     "text": [
      "You entered = hi\n"
     ]
    },
    {
     "name": "stdin",
     "output_type": "stream",
     "text": [
      "Enter your answer ('quit' to exit):  quit\n"
     ]
    },
    {
     "name": "stdout",
     "output_type": "stream",
     "text": [
      "You entered = quit\n"
     ]
    }
   ],
   "source": [
    "answer = \"\"\n",
    "while answer != \"quit\":\n",
    "    answer = input(\"Enter your answer ('quit' to exit): \")\n",
    "    # process the user's answer here\n",
    "    print(f\"You entered = {answer}\")"
   ]
  },
  {
   "cell_type": "markdown",
   "id": "1bd9d8ce-b371-4958-866c-6ebab716c76e",
   "metadata": {},
   "source": [
    "In this example, we initialize a variable answer to an empty string, and enter a while loop that keeps accepting input from the user until they enter the keyword \"quit\". Inside the loop, we process the user's input and continue looping until the user decides to quit.\n",
    "\n",
    "Overall, the while loop is a powerful tool in Python for repeating operations until a certain condition is met. It can be used in a variety of situations, including processing user input, iterating through data, and performing complex calculations. However, it's important to be careful when using while loops, as they can easily result in infinite loops if the condition is not properly defined or updated."
   ]
  },
  {
   "cell_type": "markdown",
   "id": "5fcd031b-0927-4310-8378-ca38696ec1fb",
   "metadata": {},
   "source": [
    "Q. 6 Use nested while loop to print 3 different pattern.\n",
    "\n",
    "Ans. Here are three different patterns printed using nested while loop:"
   ]
  },
  {
   "cell_type": "code",
   "execution_count": 16,
   "id": "48f93f6c-94a4-4c3c-8d2f-1923e0fd742e",
   "metadata": {},
   "outputs": [
    {
     "name": "stdout",
     "output_type": "stream",
     "text": [
      "1\n",
      "12\n",
      "123\n",
      "1234\n",
      "12345\n"
     ]
    }
   ],
   "source": [
    "#Pattern 1\n",
    "# 1\n",
    "# 12\n",
    "# 123\n",
    "# 1234\n",
    "# 12345\n",
    "\n",
    "# Code\n",
    "i = 1\n",
    "while i <= 5:\n",
    "    j = 1\n",
    "    while j <= i:\n",
    "        print(j, end=\"\")\n",
    "        j += 1\n",
    "    print()\n",
    "    i += 1"
   ]
  },
  {
   "cell_type": "code",
   "execution_count": 17,
   "id": "72a15c4e-120b-449c-912e-294e7a6ebb38",
   "metadata": {},
   "outputs": [
    {
     "name": "stdout",
     "output_type": "stream",
     "text": [
      "11111\n",
      "2222\n",
      "333\n",
      "44\n",
      "5\n"
     ]
    }
   ],
   "source": [
    "#Pattern 2\n",
    "# 11111\n",
    "# 2222\n",
    "# 333\n",
    "# 44\n",
    "# 5\n",
    "\n",
    "#Code\n",
    "i = 1\n",
    "while i <= 5:\n",
    "    j = 5\n",
    "    while j >= i:\n",
    "        print(i, end=\"\")\n",
    "        j -= 1\n",
    "    print()\n",
    "    i += 1"
   ]
  },
  {
   "cell_type": "code",
   "execution_count": 18,
   "id": "7bb83f48-b3d2-4281-a808-190090fe3c8d",
   "metadata": {},
   "outputs": [
    {
     "name": "stdout",
     "output_type": "stream",
     "text": [
      "*\n",
      "**\n",
      "***\n",
      "****\n",
      "*****\n",
      "****\n",
      "***\n",
      "**\n",
      "*\n"
     ]
    }
   ],
   "source": [
    "#Pattern 3\n",
    "# *\n",
    "# **\n",
    "# ***\n",
    "# ****\n",
    "# *****\n",
    "# ****\n",
    "# ***\n",
    "# **\n",
    "# *\n",
    "\n",
    "#Code\n",
    "i = 1\n",
    "while i <= 9:\n",
    "    if i <= 5:\n",
    "        j = 1\n",
    "        while j <= i:\n",
    "            print(\"*\", end=\"\")\n",
    "            j += 1\n",
    "    else:\n",
    "        j = 1\n",
    "        while j <= 10 - i:\n",
    "            print(\"*\", end=\"\")\n",
    "            j += 1\n",
    "    print()\n",
    "    i += 1"
   ]
  },
  {
   "cell_type": "markdown",
   "id": "34d1b78f-45cc-4bc0-bc25-87933f10214d",
   "metadata": {},
   "source": [
    "Q. 7 Reverse a while loop to display numbers from 10 to 1"
   ]
  },
  {
   "cell_type": "code",
   "execution_count": 19,
   "id": "252c5ba5-e21b-4bf9-bcc6-1cc556f7a55b",
   "metadata": {},
   "outputs": [
    {
     "name": "stdout",
     "output_type": "stream",
     "text": [
      "10\n",
      "9\n",
      "8\n",
      "7\n",
      "6\n",
      "5\n",
      "4\n",
      "3\n",
      "2\n",
      "1\n"
     ]
    }
   ],
   "source": [
    "# Python program to display numbers from 10 to 1 using a while loop:\n",
    "num = 10\n",
    "while num >= 1:\n",
    "    print(num)\n",
    "    num -= 1"
   ]
  },
  {
   "cell_type": "markdown",
   "id": "b1474691-174d-4d29-b614-805a7d1d0660",
   "metadata": {},
   "source": [
    "Q. 8 is same as Q. 7"
   ]
  },
  {
   "cell_type": "markdown",
   "id": "46814a81-cf07-40de-a55a-e0c37f051552",
   "metadata": {},
   "source": [
    "# End of Assignment"
   ]
  },
  {
   "cell_type": "code",
   "execution_count": null,
   "id": "35ac23f9-1b56-4ecc-a6e3-f8cc8e820905",
   "metadata": {},
   "outputs": [],
   "source": []
  }
 ],
 "metadata": {
  "kernelspec": {
   "display_name": "Python 3 (ipykernel)",
   "language": "python",
   "name": "python3"
  },
  "language_info": {
   "codemirror_mode": {
    "name": "ipython",
    "version": 3
   },
   "file_extension": ".py",
   "mimetype": "text/x-python",
   "name": "python",
   "nbconvert_exporter": "python",
   "pygments_lexer": "ipython3",
   "version": "3.10.8"
  }
 },
 "nbformat": 4,
 "nbformat_minor": 5
}
