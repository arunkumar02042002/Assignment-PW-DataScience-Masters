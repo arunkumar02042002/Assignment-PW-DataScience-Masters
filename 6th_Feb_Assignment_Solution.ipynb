{
 "cells": [
  {
   "cell_type": "markdown",
   "id": "6add6e53-1653-4995-ad50-553bfe374a06",
   "metadata": {},
   "source": [
    "# Assignment Start"
   ]
  },
  {
   "cell_type": "markdown",
   "id": "cca037cb-9c44-438e-a38d-eea2e3dd396a",
   "metadata": {},
   "source": [
    "Q1. Create a function which will take a list as an argument and return the product of all the numbers\n",
    "after creating a flat list.\n",
    "Use the below-given list as an argument for your function.\n",
    "list1 = [1,2,3,4, [44,55,66, True], False, (34,56,78,89,34), {1,2,3,3,2,1}, {1:34, \"key2\": [55, 67, 78, 89], 4: (45,\n",
    "22, 61, 34)}, [56, 'data science'], 'Machine Learning']"
   ]
  },
  {
   "cell_type": "code",
   "execution_count": 1,
   "id": "6574eb31-d4aa-43aa-9698-b5f050259e98",
   "metadata": {},
   "outputs": [
    {
     "name": "stdout",
     "output_type": "stream",
     "text": [
      "New List = [1, 2, 3, 4, 44, 55, 66, 34, 56, 78, 89, 34, 1, 2, 3, 34, 55, 67, 78, 89, 45, 22, 61, 34, 56]\n",
      "Product = 1033677959746771369708460310528000\n"
     ]
    }
   ],
   "source": [
    "#Solution\n",
    "import math\n",
    "\n",
    "#Creating a list to store integers\n",
    "newList = []\n",
    "def productOfList(myList):\n",
    "    \n",
    "    for i in myList:\n",
    "        if type(i) == int:\n",
    "            newList.append(i) # Appending the integer value to the list\n",
    "        \n",
    "        elif type(i) == set or type(i) == tuple:\n",
    "            newList.extend(i) # As all elements are integer in the tuple and set\n",
    "        \n",
    "        elif type(i) == list:\n",
    "            productOfList(i) #Using recursion for list because of each element is not an integer.\n",
    "            \n",
    "        elif type(i) == dict:\n",
    "            productOfList(i.values()) #Using recursion for dict because of each value is of different data type.\n",
    "            \n",
    "    return math.prod(newList) # Returning the product of the newList\n",
    "\n",
    "# Note - for set = {1,2,3,3,2,1} duplicate elements are automatically removed based to set property\n",
    "list1 = [1,2,3,4, [44,55,66, True], False, (34,56,78,89,34), {1,2,3,3,2,1}, {1:34, \"key2\": [55, 67, 78, 89], 4: (45,\n",
    "22, 61, 34)}, [56, 'data science'], 'Machine Learning']\n",
    "\n",
    "product = productOfList(list1) # Calling the function and storing the product\n",
    "print(f\"New List = {newList}\\nProduct = {product}\") # Printing the result"
   ]
  },
  {
   "cell_type": "markdown",
   "id": "e3720978-dcaf-48aa-9348-4eb7a8484f58",
   "metadata": {},
   "source": [
    "This code defines a function called productOfList that takes a list as input and returns the product of all the integers in the list. The function first initializes an empty list called newList, which will be used to store all the integers in the input list.\n",
    "The function then iterates over each item in the input list using a for loop. For each item, it checks its type using the type() function. If the item is an integer, it's added to newList using the append() method. If the item is a list or dict, the function recursively calls itself with the sub-list or the values as the input. If the type of the item is tuple os set, it's extend the list using extend function.\n",
    "Once all the integers have been added to newList, the function uses the math.prod() function to calculate the product of all the integers in newList.\n",
    "The last two lines of code outside the function call the productOfList() function with the list1 list as input and store the result in a variable called product. It then prints out the newList and product variables."
   ]
  },
  {
   "cell_type": "markdown",
   "id": "6f068b44-d81e-4b31-9bec-20732564d062",
   "metadata": {},
   "source": [
    "Q2. Write a python program for encrypting a message sent to you by your friend. The logic of encryption should be such that, for a the output should be z. For b, the output should be y. For c, the output should be x respectively. Also, the whitespace should be replaced with a dollar sign. Keep the punctuation marks unchanged.\n",
    "Input Sentence: I want to become a Data Scientist.\n",
    "Encrypt the above input sentence using the program you just created."
   ]
  },
  {
   "cell_type": "code",
   "execution_count": 2,
   "id": "8dd96551-530b-4dee-987d-a561a847e6de",
   "metadata": {},
   "outputs": [
    {
     "name": "stdout",
     "output_type": "stream",
     "text": [
      "Encrypted String = r$dzmg$gl$yvxlnv$z$wzgz$hxrvmgrhg­\n"
     ]
    }
   ],
   "source": [
    "# Function to encyrpt the given string based on the given idea\n",
    "def encryptString(input_str):\n",
    "    \n",
    "    # Intializing an input string to store the result\n",
    "    encrypted_Str = \"\"\n",
    "    \n",
    "    # Iterating each character of the input_Str\n",
    "    for i in input_str:\n",
    "        \n",
    "        #Replacing \" \" with \"$\"\n",
    "        if i == \" \":\n",
    "            encrypted_Str += \"$\"\n",
    "        \n",
    "        # Ord function returns returns the number representing the unicode code of a specified character.\n",
    "        # chr function returns  a string from a Unicode code integer.\n",
    "        else:\n",
    "            encrypted_Str += chr(ord(\"a\")+ord(\"z\")-ord(i)) # Finding replacement of each character\n",
    "            \n",
    "    #Returning the result\n",
    "    return encrypted_Str\n",
    "\n",
    "# Given String\n",
    "myStr = \"I want to become a Data Scientist.\"\n",
    "\n",
    "# Calling the encryptString function and storing the result in encrypted_Str\n",
    "encrypted_Str = encryptString(myStr.lower())\n",
    "\n",
    "# Printing the result\n",
    "print(f\"Encrypted String = {encrypted_Str}\")"
   ]
  },
  {
   "cell_type": "markdown",
   "id": "9529617e-5d65-48c1-b786-014945918c49",
   "metadata": {},
   "source": [
    "This program takes an input string as an argument and returns the encrypted string.The encryptString function begins by initializing an empty string encrypted_Str to store the encrypted string. It then loops through each character i in the input string.\n",
    "If the character is a whitespace, the function replaces it with a dollar sign $. Otherwise, it uses the ASCII codes of the characters to perform the encryption.\n",
    "The ASCII code for a is 97 and the ASCII code for z is 122. The program computes the ASCII code of the encrypted character by subtracting the ASCII code of the current character i from the sum of the ASCII codes of a and z. The resulting value is then converted back to a character using the chr() function. Finally, the function returns the encrypted string.\n",
    "\n",
    "In the main program, a sample string myStr is defined and converted to lowercase using the lower() method. The encryptString function is then called with this lowercase string as an argument and the result is printed. The output is the encrypted string of the original string, where whitespace characters have been replaced with $ and each alphabetic character has been replaced with another alphabetic character based on the idea mentioned in the question."
   ]
  },
  {
   "cell_type": "markdown",
   "id": "9dbce1e6-35b8-48c7-b3fc-cc7a3806bc37",
   "metadata": {},
   "source": [
    "# End of Assignment"
   ]
  }
 ],
 "metadata": {
  "kernelspec": {
   "display_name": "Python 3 (ipykernel)",
   "language": "python",
   "name": "python3"
  },
  "language_info": {
   "codemirror_mode": {
    "name": "ipython",
    "version": 3
   },
   "file_extension": ".py",
   "mimetype": "text/x-python",
   "name": "python",
   "nbconvert_exporter": "python",
   "pygments_lexer": "ipython3",
   "version": "3.10.8"
  }
 },
 "nbformat": 4,
 "nbformat_minor": 5
}
